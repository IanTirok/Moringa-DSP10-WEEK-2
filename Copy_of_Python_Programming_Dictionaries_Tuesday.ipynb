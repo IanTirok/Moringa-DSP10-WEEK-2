{
  "nbformat": 4,
  "nbformat_minor": 0,
  "metadata": {
    "colab": {
      "name": "Copy of Python Programming: Dictionaries",
      "provenance": [],
      "collapsed_sections": [
        "7tzKw6l87-5h",
        "50S5D_qI3kDD",
        "Amb1Bsrbwx6C",
        "1OFB5fL1w6TM",
        "GDrqXhcWzs6s",
        "zN0YcqMmzwGU"
      ],
      "toc_visible": true,
      "include_colab_link": true
    },
    "kernelspec": {
      "name": "python3",
      "display_name": "Python 3"
    }
  },
  "cells": [
    {
      "cell_type": "markdown",
      "metadata": {
        "id": "view-in-github",
        "colab_type": "text"
      },
      "source": [
        "<a href=\"https://colab.research.google.com/github/IanTirok/Moringa-DSP10-WEEK-2/blob/main/Copy_of_Python_Programming_Dictionaries_Tuesday.ipynb\" target=\"_parent\"><img src=\"https://colab.research.google.com/assets/colab-badge.svg\" alt=\"Open In Colab\"/></a>"
      ]
    },
    {
      "cell_type": "markdown",
      "metadata": {
        "id": "eOm53BqKoYpl"
      },
      "source": [
        "<font color=\"green\">*To start working on this notebook, or any other notebook that we will use in this course, we will need to save our own copy of it. We can do this by clicking File > Save a Copy in Drive. We will then be able to make edits to our own copy of this notebook.*</font>\n",
        "\n",
        "---\n",
        "\n"
      ]
    },
    {
      "cell_type": "markdown",
      "metadata": {
        "id": "w2gnEI4V253l"
      },
      "source": [
        "# Python Programming: Dictionaries"
      ]
    },
    {
      "cell_type": "markdown",
      "metadata": {
        "id": "aEqAjTGi3E3b"
      },
      "source": [
        "## 1.0 Overview\n"
      ]
    },
    {
      "cell_type": "markdown",
      "metadata": {
        "id": "nJhH3J6y3dBD"
      },
      "source": [
        "A dictionary is a collection of key-value pairs, which are unordered, changeable and indexed. Curly brackets are used when writing a dictionary."
      ]
    },
    {
      "cell_type": "markdown",
      "metadata": {
        "id": "a90lkqj_3IZr"
      },
      "source": [
        "## 1.1 Creating a Dictionary"
      ]
    },
    {
      "cell_type": "code",
      "metadata": {
        "id": "8XQMBtIU7EoL",
        "colab": {
          "base_uri": "https://localhost:8080/"
        },
        "outputId": "150f15e2-bde8-4768-82c9-52f53f18883c"
      },
      "source": [
        "# Example 1\n",
        "# We can create a dictionary by placing a sequence of elements within curly braces, \n",
        "# separated by commas as show in the following example.\n",
        "# Let's create a dictionary my_new_friend\n",
        "# \n",
        "my_new_friend = {\n",
        "    'name':'Femi', \n",
        "    'age': 24\n",
        "}\n",
        "\n",
        "# print \n",
        "print(my_new_friend)"
      ],
      "execution_count": 1,
      "outputs": [
        {
          "output_type": "stream",
          "text": [
            "{'name': 'Femi', 'age': 24}\n"
          ],
          "name": "stdout"
        }
      ]
    },
    {
      "cell_type": "code",
      "metadata": {
        "id": "dg_8-2YO7EE3",
        "colab": {
          "base_uri": "https://localhost:8080/"
        },
        "outputId": "fdcb0b0b-1066-4b3d-a5a1-70267b749572"
      },
      "source": [
        "# Example 2\n",
        "# Let's create another dictionary car with keys; brand, model and year\n",
        "# \n",
        "car =\t{\n",
        "  'brand': 'Toyota',\n",
        "  'model': 'Prado',\n",
        "  'year': 2007\n",
        "}\n",
        "\n",
        "# Then display it to see what the dictionary contains\n",
        "print(car)"
      ],
      "execution_count": 2,
      "outputs": [
        {
          "output_type": "stream",
          "text": [
            "{'brand': 'Toyota', 'model': 'Prado', 'year': 2007}\n"
          ],
          "name": "stdout"
        }
      ]
    },
    {
      "cell_type": "code",
      "metadata": {
        "id": "KiVcQaXH7D0R",
        "colab": {
          "base_uri": "https://localhost:8080/"
        },
        "outputId": "5b1c7e32-0c50-441c-84e0-fe5de7d1a87e"
      },
      "source": [
        "# Example 3\n",
        "# Let's create another dictionary\n",
        "#\n",
        "our_class = {\n",
        "    'Name': '7 East', \n",
        "    'Students': 27, \n",
        "    'Wing': 'East'\n",
        "}\n",
        "\n",
        "# printing out our_class\n",
        "print(our_class)"
      ],
      "execution_count": 3,
      "outputs": [
        {
          "output_type": "stream",
          "text": [
            "{'Name': '7 East', 'Students': 27, 'Wing': 'East'}\n"
          ],
          "name": "stdout"
        }
      ]
    },
    {
      "cell_type": "markdown",
      "metadata": {
        "id": "49K6mQJg7yUh"
      },
      "source": [
        "### 1.1 Challenges"
      ]
    },
    {
      "cell_type": "code",
      "metadata": {
        "id": "v5e2By6E76hW",
        "colab": {
          "base_uri": "https://localhost:8080/"
        },
        "outputId": "c759e023-8de1-4b6a-bf85-249e9878b942"
      },
      "source": [
        "# Challenge 1\n",
        "# Create a dictionary family with keys i.e. father,\n",
        "# mother, son and daughter. You can add values of your family\n",
        "# to the key values\n",
        "# \n",
        "\n",
        "Family = {\n",
        "    'Mother': 'Jane', \n",
        "    'Father': 'John', \n",
        "    'Son': 'Ian',\n",
        "    'Daughter': 'Ivy'\n",
        "}\n",
        "\n",
        "# printing out our_class\n",
        "print(Family)"
      ],
      "execution_count": 145,
      "outputs": [
        {
          "output_type": "stream",
          "text": [
            "{'Mother': 'Jane', 'Father': 'John', 'Son': 'Ian', 'Daughter': 'Ivy'}\n"
          ],
          "name": "stdout"
        }
      ]
    },
    {
      "cell_type": "code",
      "metadata": {
        "id": "tpBdeH5275i9",
        "colab": {
          "base_uri": "https://localhost:8080/"
        },
        "outputId": "47f21f93-7caa-49e6-d870-c7b5c0f36b94"
      },
      "source": [
        "# Challenge 2\n",
        "# Create a dictionary name powers_dictionary using numbers 1-5 as keys \n",
        "# and their square power as values.  \n",
        "#\n",
        "numbers_1_5 = {\n",
        "    1 : 1,\n",
        "    2 : 4,\n",
        "    3 : 9,\n",
        "    4 : 16,\n",
        "    5 : 25\n",
        "}\n",
        "\n",
        "#printing our numbers_1_5\n",
        "\n",
        "print(numbers_1_5)"
      ],
      "execution_count": 26,
      "outputs": [
        {
          "output_type": "stream",
          "text": [
            "{1: 1, 2: 4, 3: 9, 4: 16, 5: 25}\n"
          ],
          "name": "stdout"
        }
      ]
    },
    {
      "cell_type": "code",
      "metadata": {
        "id": "yf9bGNKEKsFF",
        "colab": {
          "base_uri": "https://localhost:8080/"
        },
        "outputId": "57fccc1d-131f-4531-c3ce-4ee48904de9d"
      },
      "source": [
        "# Challenge 3\n",
        "# A caterer offers three different food packages; \n",
        "# bronze package: starch:rice stew:chicken curry vegetable:cabbages desert:melon\n",
        "# silver package: starch:rice and chappati  stew:beef curry vegetable:spinach desert:melon and bananas\n",
        "# gold package: starch:rice, chappati and mukimo stew: beef curry vegetable:spinach and managu desert: tart\n",
        "# Create a dictionary that stores the above information then preview it\n",
        "# Hint: You can store a dictionary within a dictionary \n",
        "# \n",
        "food_packages = {\n",
        "    'bronze_package' : {'starch':'rice', 'stew':'chicken curry', 'vegetable':'cabbages', 'desert':'melon'},\n",
        "    'silver_package' : {'starch':'rice and chappati',  'stew':'beef curry', 'vegetable':'spinach', 'desert':'melon and banana'},\n",
        "    'gold_package' : {'starch':'rice chappati and mukimo', 'stew': 'beef curry', 'vegetable':'spinach and managu', 'desert': 'tart'}\n",
        "}\n",
        "\n",
        "#printing food_packages\n",
        "\n",
        "print (food_packages)"
      ],
      "execution_count": 36,
      "outputs": [
        {
          "output_type": "stream",
          "text": [
            "{'bronze_package': {'starch': 'rice', 'stew': 'chicken curry', 'vegetable': 'cabbages', 'desert': 'melon'}, 'silver_package': {'starch': 'rice and chappati', 'stew': 'beef curry', 'vegetable': 'spinach', 'desert': 'melon and banana'}, 'gold_package': {'starch': 'rice chappati and mukimo', 'stew': 'beef curry', 'vegetable': 'spinach and managu', 'desert': 'tart'}}\n"
          ],
          "name": "stdout"
        }
      ]
    },
    {
      "cell_type": "markdown",
      "metadata": {
        "id": "UU3YIJYI3gwc"
      },
      "source": [
        "## 1.2 Adding Elements to a Dictionary"
      ]
    },
    {
      "cell_type": "code",
      "metadata": {
        "id": "t-dKvalj7F44",
        "colab": {
          "base_uri": "https://localhost:8080/"
        },
        "outputId": "9871ff3a-3134-4623-c396-e53c4a09eb80"
      },
      "source": [
        "# Example 1 \n",
        "# Adding a residence to my_new_friend dictionary that we had initially created\n",
        "# \n",
        "my_new_friend['residence'] = 'Nairobi'  \n",
        "\n",
        "# print out my_new_friend\n",
        "print(my_new_friend)"
      ],
      "execution_count": 37,
      "outputs": [
        {
          "output_type": "stream",
          "text": [
            "{'name': 'Femi', 'age': 24, 'residence': 'Nairobi'}\n"
          ],
          "name": "stdout"
        }
      ]
    },
    {
      "cell_type": "code",
      "metadata": {
        "id": "FsS9Ns-b7FnE",
        "colab": {
          "base_uri": "https://localhost:8080/"
        },
        "outputId": "3d3e0d79-dad4-4051-8cde-c9891d668372"
      },
      "source": [
        "# Example 2\n",
        "# We now add color to our car dictionary\n",
        "#\n",
        "car[\"color\"] = \"light gray\"\n",
        "\n",
        "# and print out our dictionary\n",
        "print(car)"
      ],
      "execution_count": 38,
      "outputs": [
        {
          "output_type": "stream",
          "text": [
            "{'brand': 'Toyota', 'model': 'Prado', 'year': 2007, 'color': 'light gray'}\n"
          ],
          "name": "stdout"
        }
      ]
    },
    {
      "cell_type": "code",
      "metadata": {
        "id": "GFY3EYiO7FcZ",
        "colab": {
          "base_uri": "https://localhost:8080/"
        },
        "outputId": "837e8221-72d0-4c67-aa9b-567570946f55"
      },
      "source": [
        "# Example 3\n",
        "# Adding the school to the dictionary\n",
        "#\n",
        "our_class['School'] = \"Moringa School\";\n",
        "\n",
        "# printing out our class to see the updates\n",
        "print(our_class)"
      ],
      "execution_count": 39,
      "outputs": [
        {
          "output_type": "stream",
          "text": [
            "{'Name': '7 East', 'Students': 27, 'Wing': 'East', 'School': 'Moringa School'}\n"
          ],
          "name": "stdout"
        }
      ]
    },
    {
      "cell_type": "markdown",
      "metadata": {
        "id": "7tzKw6l87-5h"
      },
      "source": [
        "### 1.2 Challenges"
      ]
    },
    {
      "cell_type": "code",
      "metadata": {
        "id": "jqbEx0BU8EL4",
        "colab": {
          "base_uri": "https://localhost:8080/"
        },
        "outputId": "9980fe39-2457-4a3e-ac9c-0cf5d56ab95a"
      },
      "source": [
        "# Challenge 1: \n",
        "# Naivas Supermarket sells two products: bread and milk. \n",
        "# A loaf of bread weighs 400 grams. Each packet of milk is 0.5 litre. \n",
        "# Write a program that reads the number of bread \n",
        "# and the number of packets of milk in an order from the user. \n",
        "# Then your program should compute and display the total quantity of the order.\n",
        "# You should store the order in the dictionary and \n",
        "# prompt the user for another input.\n",
        "# \n",
        "\n",
        "\n",
        "shopping_list = {\n",
        "    'bread' : 400,\n",
        "    'milk' : (float (0.5))\n",
        "}\n",
        "\n",
        "shopping_list['bread'] = bread\n",
        "shopping_list['milk'] = milk\n",
        "\n",
        "bread_q = int (input ('how many packets of bread would you like to buy: '))\n",
        "milk_q = int (input ('how many packets of milk would you like to buy: '))\n",
        "\n",
        "reciept = {\n",
        "\"milk_quantity\" : milk_q,\n",
        "\"bread_quantity\" : bread_q\n",
        "}\n",
        "\n",
        "x = shopping_list['bread'] * reciept['bread_quantity']\n",
        "y = shopping_list['milk'] * reciept['milk_quantity']\n",
        "\n",
        "print(\"The weight of bread will be\", x ,\"grams. The milk will be\", y ,\"litres\")\n",
        "\n"
      ],
      "execution_count": 108,
      "outputs": [
        {
          "output_type": "stream",
          "text": [
            "how many packets of bread would you like to buy: 10\n",
            "how many packets of milk would you like to buy: 5\n",
            "The weight of bread will be 4000 grams. The milk will be 2.5 litres\n"
          ],
          "name": "stdout"
        }
      ]
    },
    {
      "cell_type": "code",
      "metadata": {
        "id": "gQTOkgy2kgLT",
        "colab": {
          "base_uri": "https://localhost:8080/",
          "height": 103
        },
        "outputId": "549c42cd-b2c5-42a3-9eba-7ebd2f97fbd2"
      },
      "source": [
        "# Challenge 2:\n",
        "# Two words are anagrams if they contain all of the same letters, \n",
        "# but in a different order. For example, “evil” and “live” \n",
        "# are anagrams because each contains one e, one i, one l, and one v. \n",
        "# Create a program that reads two strings from the user, determines\n",
        "# whether or not they are anagrams, stores and reports the result.\n",
        "# Use a dictionary to solve this problem.\n",
        "# \n",
        "anagrams = {\n",
        "\"word_a\" : str (input('input first word you want to compare?   ')),\n",
        "\"word_b\" : str (input('input second word you want to compare?    '))\n",
        "}\n",
        "\n",
        "word_x = sorted(anagrams['word_a']) \n",
        "word_y= sorted(anagrams['word_b'])  \n",
        "\n",
        "print (\"the words are anagrams:\") \n",
        "\n",
        "print (word_x == word_y)\n",
        ";"
      ],
      "execution_count": 111,
      "outputs": [
        {
          "output_type": "stream",
          "text": [
            "input first word you want to compare?   dog\n",
            "input second word you want to compare?    god\n",
            "the words are anagrams:\n",
            "True\n"
          ],
          "name": "stdout"
        },
        {
          "output_type": "execute_result",
          "data": {
            "application/vnd.google.colaboratory.intrinsic+json": {
              "type": "string"
            },
            "text/plain": [
              "''"
            ]
          },
          "metadata": {
            "tags": []
          },
          "execution_count": 111
        }
      ]
    },
    {
      "cell_type": "code",
      "metadata": {
        "id": "3pcE1f56f87G",
        "colab": {
          "base_uri": "https://localhost:8080/"
        },
        "outputId": "6cb74a32-87a2-4a8e-9ab5-a862cc310e0b"
      },
      "source": [
        "# Challenge 3:\n",
        "# Create a program that determines and displays \n",
        "# the number of characters in a string entered by the user. \n",
        "# For example, \"Hello, World!\" has 13  characters while \n",
        "# abc has only three character. \n",
        "# Use a dictionary to solve this problem.\n",
        "# \n",
        "numchar = {\n",
        "\"word_c\" : str (input('which word do you want to calculate number of letters?   '))\n",
        "}\n",
        "print (\"Length of the string: \", len(numchar['word_c']));\n",
        "\n"
      ],
      "execution_count": 138,
      "outputs": [
        {
          "output_type": "stream",
          "text": [
            "which word do you want to calculate number of letters?   good\n",
            "Length of the string:  4\n"
          ],
          "name": "stdout"
        }
      ]
    },
    {
      "cell_type": "markdown",
      "metadata": {
        "id": "hzmMe5TP32ra"
      },
      "source": [
        "## 1.3 Updating Elements in a Dictionary"
      ]
    },
    {
      "cell_type": "code",
      "metadata": {
        "id": "J66GyFzt7I_X",
        "colab": {
          "base_uri": "https://localhost:8080/"
        },
        "outputId": "681402c9-35d2-46a7-e289-c988908f9655"
      },
      "source": [
        "# Example 1\n",
        "# Let's update age on the dictionary my_new_friend \n",
        "#\n",
        "my_new_friend['age'] = 24\n",
        "\n",
        "# print out\n",
        "print(my_new_friend)"
      ],
      "execution_count": 139,
      "outputs": [
        {
          "output_type": "stream",
          "text": [
            "{'name': 'Femi', 'age': 24, 'residence': 'Nairobi'}\n"
          ],
          "name": "stdout"
        }
      ]
    },
    {
      "cell_type": "code",
      "metadata": {
        "id": "zhJabm-I7Jr4",
        "colab": {
          "base_uri": "https://localhost:8080/"
        },
        "outputId": "07517e08-cce5-471e-8219-9e397343a449"
      },
      "source": [
        "# Example 2\n",
        "# Let's update our dictionary my_new_friend\n",
        "#\n",
        "car[\"color\"] = \"light gray\"\n",
        "\n",
        "# and print out our dictionary\n",
        "print(car)"
      ],
      "execution_count": 140,
      "outputs": [
        {
          "output_type": "stream",
          "text": [
            "{'brand': 'Toyota', 'model': 'Prado', 'year': 2007, 'color': 'light gray'}\n"
          ],
          "name": "stdout"
        }
      ]
    },
    {
      "cell_type": "code",
      "metadata": {
        "id": "PbbAVPsO7JfJ",
        "colab": {
          "base_uri": "https://localhost:8080/"
        },
        "outputId": "75831d7f-51af-43dc-866c-559ab013d946"
      },
      "source": [
        "# Example 3\n",
        "# Updating our class \n",
        "#\n",
        "our_class['Students'] = 29;\n",
        "\n",
        "# printing out our class to see the updates\n",
        "print(our_class)"
      ],
      "execution_count": 141,
      "outputs": [
        {
          "output_type": "stream",
          "text": [
            "{'Name': '7 East', 'Students': 29, 'Wing': 'East', 'School': 'Moringa School'}\n"
          ],
          "name": "stdout"
        }
      ]
    },
    {
      "cell_type": "markdown",
      "metadata": {
        "id": "Hp9Jaf8V8PE1"
      },
      "source": [
        "### 1.3 Challenges"
      ]
    },
    {
      "cell_type": "code",
      "metadata": {
        "id": "LcK4RI6K8Qrp",
        "colab": {
          "base_uri": "https://localhost:8080/"
        },
        "outputId": "a0f9ea49-488e-48ff-dcd5-fa06fe943bf4"
      },
      "source": [
        "# Challenge 1\n",
        "# Let's update the value of the son and daughter keys of the family dictionary \n",
        "# that we had earlier on created\n",
        "#\n",
        "Family['Son'] = \"Johnte\",\n",
        "Family['Daughter'] = \"Janet\";\n",
        "\n",
        "\n",
        "\n",
        "# printing out our class to see the updates\n",
        "print(Family)"
      ],
      "execution_count": 151,
      "outputs": [
        {
          "output_type": "stream",
          "text": [
            "{'Mother': 'Jane', 'Father': 'John', 'Son': ('Johnte',), 'Daughter': 'Janet'}\n"
          ],
          "name": "stdout"
        }
      ]
    },
    {
      "cell_type": "code",
      "metadata": {
        "id": "EEU_gZax8RN6",
        "colab": {
          "base_uri": "https://localhost:8080/"
        },
        "outputId": "b3b3ba7d-f9b7-4c6e-dd5a-4758042d676f"
      },
      "source": [
        "# Challenge 2\n",
        "# Update value of the gold package in the caterer dictionary to \n",
        "# have vegetable as spinach, cabbage and managu\n",
        "#\n",
        "food_packages[\n",
        "'gold_package']['vegetable'] = \"spinach, cabbage and managu\"\n",
        "\n",
        "\n",
        "\n",
        "\n",
        "\n",
        "# printing out our class to see the updates\n",
        "print(food_packages)"
      ],
      "execution_count": 164,
      "outputs": [
        {
          "output_type": "stream",
          "text": [
            "{'bronze_package': {'starch': 'rice', 'stew': 'chicken curry', 'vegetable': 'cabbages', 'desert': 'melon'}, 'silver_package': {'starch': 'rice and chappati', 'stew': 'beef curry', 'vegetable': 'spinach', 'desert': 'melon and banana'}, 'gold_package': {'starch': 'rice chappati and mukimo', 'stew': 'beef curry', 'vegetable': 'spinach, cabbage and managu', 'desert': 'tart'}}\n"
          ],
          "name": "stdout"
        }
      ]
    },
    {
      "cell_type": "code",
      "metadata": {
        "id": "jMEwHQI18RCX",
        "colab": {
          "base_uri": "https://localhost:8080/"
        },
        "outputId": "cba557df-f534-41dd-b2bc-0c5edc200a05"
      },
      "source": [
        "# Challenge 3\n",
        "# Upon creating the Naivas supermarket dictionary program earlier on,\n",
        "# We will now extend the functionality of your program to be able to also update\n",
        "# the quantity of either the bread or packet of milk.\n",
        "# Write another program the will prompt the user to indicate whether they want\n",
        "# to update the quantity of the product or compute the total quantity of the total order.\n",
        "# Using if statements, your program should execute either to the code you had earlier\n",
        "# on written or to the new code for updating that you will now write\n",
        "#\n",
        "j = int (input(\"if you would like to buy a different ammount of bread or milk type 1 if not type 0  \"))\n",
        "\n",
        "if j == 1:\n",
        "\n",
        "  bread_l = int (input ('how many packets of bread would you like to buy: '))\n",
        "  milk_l = int (input ('how many packets of milk would you like to buy: '))\n",
        "\n",
        "  reciept = {\n",
        "  \"milk_quantity\" : milk_l,\n",
        "  \"bread_quantity\" : bread_l\n",
        "  }\n",
        "\n",
        "  m = shopping_list['bread'] * reciept['bread_quantity']\n",
        "  n = shopping_list['milk'] * reciept['milk_quantity']\n",
        "\n",
        "  print(\"The new weight of bread will be\", m ,\"grams. The milk will be\", n ,\"litres\")\n",
        "\n",
        "elif j == 0:\n",
        "  print (\"The weight of goods you bought remains the same\")\n",
        "\n",
        "else :\n",
        "  print (\"The figure you input is invalid\")"
      ],
      "execution_count": 181,
      "outputs": [
        {
          "output_type": "stream",
          "text": [
            "if you would like to buy a different ammount of bread or milk type 1 if not type 0  32\n",
            "the figure you input is invalid\n"
          ],
          "name": "stdout"
        }
      ]
    },
    {
      "cell_type": "markdown",
      "metadata": {
        "id": "50S5D_qI3kDD"
      },
      "source": [
        "## 1.4 Accessing Elements from a Dictionary"
      ]
    },
    {
      "cell_type": "code",
      "metadata": {
        "id": "ZBJa2FHU7Muf",
        "colab": {
          "base_uri": "https://localhost:8080/"
        },
        "outputId": "681eb068-bc4f-40ae-a6d3-53d6e0dfd852"
      },
      "source": [
        "# Example 1\n",
        "# Accessing my_new_friend dictionary \n",
        "#\n",
        "name_a = my_new_friend[\"name\"]\n",
        "\n",
        "# print name_a\n",
        "print(name_a)\n",
        "\n",
        "\n",
        "# or we could also\n",
        "name_b = my_new_friend.get(\"name\")\n",
        "\n",
        "# print name_b\n",
        "print(name_b)"
      ],
      "execution_count": 182,
      "outputs": [
        {
          "output_type": "stream",
          "text": [
            "Femi\n",
            "Femi\n"
          ],
          "name": "stdout"
        }
      ]
    },
    {
      "cell_type": "code",
      "metadata": {
        "id": "A8ggbH347NPz",
        "colab": {
          "base_uri": "https://localhost:8080/"
        },
        "outputId": "a6ac6e15-faec-4dc3-a7ce-ae780dcb30c8"
      },
      "source": [
        "# Example 2\n",
        "# Accessing the model in the car dictionary\n",
        "#\n",
        "car_a = car[\"model\"]\n",
        "\n",
        "# print car_a\n",
        "print(car_a)\n",
        "\n",
        "# or we could also\n",
        "car_b = car.get(\"model\")\n",
        "\n",
        "# print name_b\n",
        "print(car_b)"
      ],
      "execution_count": 183,
      "outputs": [
        {
          "output_type": "stream",
          "text": [
            "Prado\n",
            "Prado\n"
          ],
          "name": "stdout"
        }
      ]
    },
    {
      "cell_type": "code",
      "metadata": {
        "id": "eaZxBKDf7NF4",
        "colab": {
          "base_uri": "https://localhost:8080/"
        },
        "outputId": "18f7a42c-fe5b-4e39-c6a8-9949bfa8b66b"
      },
      "source": [
        "# Example 3\n",
        "# Accessing the name in our_class dictionary\n",
        "#\n",
        "our_class_a = our_class[\"Name\"]\n",
        "\n",
        "# or we could also\n",
        "our_class_b = our_class.get(\"Name\")\n",
        "\n",
        "# print our_class_b \n",
        "print(our_class_b)"
      ],
      "execution_count": 184,
      "outputs": [
        {
          "output_type": "stream",
          "text": [
            "7 East\n"
          ],
          "name": "stdout"
        }
      ]
    },
    {
      "cell_type": "markdown",
      "metadata": {
        "id": "mqnSUp-a8I65"
      },
      "source": [
        "### 1.4 Challenges"
      ]
    },
    {
      "cell_type": "code",
      "metadata": {
        "id": "uE_DKh_N8XMj",
        "colab": {
          "base_uri": "https://localhost:8080/"
        },
        "outputId": "b6ee19c6-addb-48b6-eea3-cf595328e5aa"
      },
      "source": [
        "# Challenge 1\n",
        "# What is the power of 4 from the powers_dictionary\n",
        "# \n",
        "power_4 = numbers_1_5[4]\n",
        "\n",
        "print (power_4)"
      ],
      "execution_count": 186,
      "outputs": [
        {
          "output_type": "stream",
          "text": [
            "16\n"
          ],
          "name": "stdout"
        }
      ]
    },
    {
      "cell_type": "code",
      "metadata": {
        "id": "dt-ZmzrQ8YIM",
        "colab": {
          "base_uri": "https://localhost:8080/"
        },
        "outputId": "e59f0f9a-9736-486f-a951-448e9c9ce5f4"
      },
      "source": [
        "# Challenge 2\n",
        "# Let's access the silver package from our caterer dictionary\n",
        "#\n",
        "silver_packages = food_packages[\"silver_package\"]\n",
        "\n",
        "print (silver_packages)"
      ],
      "execution_count": 187,
      "outputs": [
        {
          "output_type": "stream",
          "text": [
            "{'starch': 'rice and chappati', 'stew': 'beef curry', 'vegetable': 'spinach', 'desert': 'melon and banana'}\n"
          ],
          "name": "stdout"
        }
      ]
    },
    {
      "cell_type": "code",
      "metadata": {
        "id": "xLEaTJdY8X4t",
        "colab": {
          "base_uri": "https://localhost:8080/"
        },
        "outputId": "1424ac5d-4041-4a06-c417-ca751e6e6a6d"
      },
      "source": [
        "# Challenge 3\n",
        "# Access the name of the father from the family dictionary\n",
        "# \n",
        "Fathers_Name = Family['Father']\n",
        "\n",
        "print (Fathers_Name)"
      ],
      "execution_count": 188,
      "outputs": [
        {
          "output_type": "stream",
          "text": [
            "John\n"
          ],
          "name": "stdout"
        }
      ]
    },
    {
      "cell_type": "markdown",
      "metadata": {
        "id": "Amb1Bsrbwx6C"
      },
      "source": [
        "## 1.5 Checking if a Key exists"
      ]
    },
    {
      "cell_type": "code",
      "metadata": {
        "id": "bcY3c6DHwwu2",
        "colab": {
          "base_uri": "https://localhost:8080/"
        },
        "outputId": "78e99418-13f3-47d0-befe-7b72314f75a5"
      },
      "source": [
        "# Example 1\n",
        "# We can check if a specified key exists within a dictionary through the use of the `in` keyword;\n",
        "# Let's check if the keyword residence exists in my_new_friend dictionary\n",
        "# \n",
        "if \"residence\" in my_new_friend:\n",
        "  print(\"Yes, the keyword exists in the dictionary\")\n",
        "else:\n",
        "  print('No, the keyword does not exist in the dictionary')"
      ],
      "execution_count": 189,
      "outputs": [
        {
          "output_type": "stream",
          "text": [
            "Yes, the keyword exists in the dictionary\n"
          ],
          "name": "stdout"
        }
      ]
    },
    {
      "cell_type": "code",
      "metadata": {
        "id": "KJYTGPMKw52k",
        "colab": {
          "base_uri": "https://localhost:8080/"
        },
        "outputId": "525ae07f-6a6a-4add-f940-3331230f39cc"
      },
      "source": [
        "# Example 2\n",
        "# Let's check if the keyword year exists in car dictionary\n",
        "#\n",
        "if \"year\" in car:\n",
        "  print(\"Yes, the keyword exists in the dictionary\")\n",
        "else:\n",
        "  print('No, the keyword does not exist in the dictionary')"
      ],
      "execution_count": 190,
      "outputs": [
        {
          "output_type": "stream",
          "text": [
            "Yes, the keyword exists in the dictionary\n"
          ],
          "name": "stdout"
        }
      ]
    },
    {
      "cell_type": "code",
      "metadata": {
        "id": "U0sTioBMw5tU",
        "colab": {
          "base_uri": "https://localhost:8080/"
        },
        "outputId": "f85af42e-f4a1-47b3-df47-f32d818ed4fd"
      },
      "source": [
        "# Example 3\n",
        "# Checking if the keyword Wing exists in our_class dictionary\n",
        "#\n",
        "if \"Wing\" in our_class:\n",
        "  print(\"Yes, the keyword exists in the dictionary\")\n",
        "else:\n",
        "  print('No, the keyword does not exist in the dictionary')"
      ],
      "execution_count": 191,
      "outputs": [
        {
          "output_type": "stream",
          "text": [
            "Yes, the keyword exists in the dictionary\n"
          ],
          "name": "stdout"
        }
      ]
    },
    {
      "cell_type": "markdown",
      "metadata": {
        "id": "1OFB5fL1w6TM"
      },
      "source": [
        "### 1.5 Challenges"
      ]
    },
    {
      "cell_type": "code",
      "metadata": {
        "id": "oUCqFuf_w--X",
        "colab": {
          "base_uri": "https://localhost:8080/"
        },
        "outputId": "d49b094c-e317-4b6d-8fc7-e702ddee8673"
      },
      "source": [
        "# Challenge 1\n",
        "# Does the model key exist in our car dictionary?\n",
        "#\n",
        "if \"model\" in car:\n",
        "  print(\"Yes, the keyword exists in the dictionary\")\n",
        "else:\n",
        "  print('No, the keyword does not exist in the dictionary')"
      ],
      "execution_count": 192,
      "outputs": [
        {
          "output_type": "stream",
          "text": [
            "Yes, the keyword exists in the dictionary\n"
          ],
          "name": "stdout"
        }
      ]
    },
    {
      "cell_type": "code",
      "metadata": {
        "id": "y2KKTbcmw_jK",
        "colab": {
          "base_uri": "https://localhost:8080/"
        },
        "outputId": "12d5710a-63c8-42ba-ea6f-f3706078fcb2"
      },
      "source": [
        "# Challenge 2\n",
        "# Does te\n",
        "# Let's get the power of 6 from our already created powers dictionary\n",
        "#\n",
        "if \"6\" in numbers_1_5:\n",
        "  print(\"Yes, the power of 6 exists in the dictionary\")\n",
        "else:\n",
        "  print('No, the power of 6 does not exist in the dictionary')"
      ],
      "execution_count": 193,
      "outputs": [
        {
          "output_type": "stream",
          "text": [
            "No, the power of 6 does not exist in the dictionary\n"
          ],
          "name": "stdout"
        }
      ]
    },
    {
      "cell_type": "code",
      "metadata": {
        "id": "bGck3KPGw_HE",
        "colab": {
          "base_uri": "https://localhost:8080/"
        },
        "outputId": "8e5e25d6-a789-4f05-a3e1-d3fd5c46e44d"
      },
      "source": [
        "# Challenge 3\n",
        "# Let's find out if the diamond package exists in the caterer package\n",
        "#\n",
        "if \"diamond package\" in food_packages:\n",
        "  print(\"Yes, the diamond package exists in the dictionary\")\n",
        "else:\n",
        "  print('No, the diamond package does not exist in the dictionary')"
      ],
      "execution_count": 194,
      "outputs": [
        {
          "output_type": "stream",
          "text": [
            "No, the diamond package does not exist in the dictionary\n"
          ],
          "name": "stdout"
        }
      ]
    },
    {
      "cell_type": "markdown",
      "metadata": {
        "id": "GDrqXhcWzs6s"
      },
      "source": [
        "## 1.6 The No. of elements in a Dictionary"
      ]
    },
    {
      "cell_type": "code",
      "metadata": {
        "id": "mQMc9N3TzvUA",
        "colab": {
          "base_uri": "https://localhost:8080/"
        },
        "outputId": "7289e329-1ddd-4b5d-d5e4-1836d0465ab4"
      },
      "source": [
        "# Example 1\n",
        "# We can use keyword `len()` to determine how many items (key - value pairs) there are in the dictionary.\n",
        "# Finding out how many items there are in the my_new_friend dictionary\n",
        "#\n",
        "print(len(my_new_friend))"
      ],
      "execution_count": 195,
      "outputs": [
        {
          "output_type": "stream",
          "text": [
            "3\n"
          ],
          "name": "stdout"
        }
      ]
    },
    {
      "cell_type": "code",
      "metadata": {
        "id": "YJbVoIfzzvkC",
        "colab": {
          "base_uri": "https://localhost:8080/"
        },
        "outputId": "e39aeecb-cc2b-4cf4-9328-4371fb2ac9dc"
      },
      "source": [
        "# Example 2\n",
        "# Finding out how many items there are in the car dictionary\n",
        "#\n",
        "print(len(car))"
      ],
      "execution_count": 196,
      "outputs": [
        {
          "output_type": "stream",
          "text": [
            "4\n"
          ],
          "name": "stdout"
        }
      ]
    },
    {
      "cell_type": "code",
      "metadata": {
        "id": "ubNhcSttz050",
        "colab": {
          "base_uri": "https://localhost:8080/"
        },
        "outputId": "56a9166e-3bc9-4d31-bd1c-15348c521a24"
      },
      "source": [
        "# Example 3\n",
        "# Finding out how many items there are in the our_class dictionary\n",
        "#\n",
        "print(len(our_class))"
      ],
      "execution_count": 197,
      "outputs": [
        {
          "output_type": "stream",
          "text": [
            "4\n"
          ],
          "name": "stdout"
        }
      ]
    },
    {
      "cell_type": "markdown",
      "metadata": {
        "id": "zN0YcqMmzwGU"
      },
      "source": [
        "### 1.6 Challenges"
      ]
    },
    {
      "cell_type": "code",
      "metadata": {
        "id": "9SWkSQvnz2bh",
        "colab": {
          "base_uri": "https://localhost:8080/"
        },
        "outputId": "5439e88a-1b98-4989-aeec-4206f8c7dea8"
      },
      "source": [
        "# Challenge 1\n",
        "# Using the family dictionary, let's determine how many family members there are in the family?\n",
        "#\n",
        "print(len(Family))"
      ],
      "execution_count": 198,
      "outputs": [
        {
          "output_type": "stream",
          "text": [
            "4\n"
          ],
          "name": "stdout"
        }
      ]
    },
    {
      "cell_type": "code",
      "metadata": {
        "id": "GKXla2_Qz2Lx",
        "colab": {
          "base_uri": "https://localhost:8080/"
        },
        "outputId": "22c3c7a0-35a1-48a3-cc0c-ccf8ed9a54f4"
      },
      "source": [
        "# Challenge 2\n",
        "# How many items have we stored in our anagrams dictionary?\n",
        "# \n",
        "print(len(anagrams))"
      ],
      "execution_count": 199,
      "outputs": [
        {
          "output_type": "stream",
          "text": [
            "2\n"
          ],
          "name": "stdout"
        }
      ]
    },
    {
      "cell_type": "code",
      "metadata": {
        "id": "y1Yc0df-z2AG",
        "colab": {
          "base_uri": "https://localhost:8080/"
        },
        "outputId": "37fe7c60-4e98-4722-830c-d090675f8faf"
      },
      "source": [
        "# Challange 3\n",
        "# Using the cater dictionary, how many meals do we have in our gold package? \n",
        "# \n",
        "print(len(food_packages))"
      ],
      "execution_count": 200,
      "outputs": [
        {
          "output_type": "stream",
          "text": [
            "3\n"
          ],
          "name": "stdout"
        }
      ]
    },
    {
      "cell_type": "markdown",
      "metadata": {
        "id": "t3HfcEjn306L"
      },
      "source": [
        "## 1.7 Removing Elements from a Dictionary"
      ]
    },
    {
      "cell_type": "code",
      "metadata": {
        "id": "g9zlKoiL7PaV",
        "colab": {
          "base_uri": "https://localhost:8080/",
          "height": 248
        },
        "outputId": "43061165-0e15-431e-e321-24cc44b1351e"
      },
      "source": [
        "# Example 1\n",
        "# We can remove a specific item from the dictionary \n",
        "# with the specified key name using the pop() method. \n",
        "# The clear() method clears the items in the dictionary \n",
        "# while the del keyword deletes the dictionary completely.\n",
        "\n",
        "\n",
        "# Removing age from my_new_friend dictionary\n",
        "updated_my_new_friend = my_new_friend.pop(\"age\")\n",
        "\n",
        "# printing out the updated dictionary\n",
        "print(updated_my_new_friend)\n",
        "\n",
        "# now clearing the dictionary \n",
        "updated_my_new_friend.clear()\n",
        "\n",
        "\n",
        "# printing out the cleared dictionary\n",
        "print(updated_my_new_friend)\n",
        "\n",
        "# deleting the dictionary completely\n",
        "del updated_my_new_friend"
      ],
      "execution_count": 201,
      "outputs": [
        {
          "output_type": "stream",
          "text": [
            "24\n"
          ],
          "name": "stdout"
        },
        {
          "output_type": "error",
          "ename": "AttributeError",
          "evalue": "ignored",
          "traceback": [
            "\u001b[0;31m---------------------------------------------------------------------------\u001b[0m",
            "\u001b[0;31mAttributeError\u001b[0m                            Traceback (most recent call last)",
            "\u001b[0;32m<ipython-input-201-92c2e5620817>\u001b[0m in \u001b[0;36m<module>\u001b[0;34m()\u001b[0m\n\u001b[1;32m     13\u001b[0m \u001b[0;34m\u001b[0m\u001b[0m\n\u001b[1;32m     14\u001b[0m \u001b[0;31m# now clearing the dictionary\u001b[0m\u001b[0;34m\u001b[0m\u001b[0;34m\u001b[0m\u001b[0;34m\u001b[0m\u001b[0m\n\u001b[0;32m---> 15\u001b[0;31m \u001b[0mupdated_my_new_friend\u001b[0m\u001b[0;34m.\u001b[0m\u001b[0mclear\u001b[0m\u001b[0;34m(\u001b[0m\u001b[0;34m)\u001b[0m\u001b[0;34m\u001b[0m\u001b[0;34m\u001b[0m\u001b[0m\n\u001b[0m\u001b[1;32m     16\u001b[0m \u001b[0;34m\u001b[0m\u001b[0m\n\u001b[1;32m     17\u001b[0m \u001b[0;34m\u001b[0m\u001b[0m\n",
            "\u001b[0;31mAttributeError\u001b[0m: 'int' object has no attribute 'clear'"
          ]
        }
      ]
    },
    {
      "cell_type": "code",
      "metadata": {
        "id": "JAKiQ6y97PMq",
        "colab": {
          "base_uri": "https://localhost:8080/",
          "height": 231
        },
        "outputId": "f9eab4a2-ada8-447e-dacd-82cea1ca9ffb"
      },
      "source": [
        "# Example 2\n",
        "# Removing model from car dictionary\n",
        "\n",
        "# using the pop method\n",
        "updated_car = car.pop(\"model\")\n",
        "\n",
        "# printing out the updated car dictionary\n",
        "print(updated_car)\n",
        "\n",
        "\n",
        "# now clearing the dictionary \n",
        "updated_car.clear()\n",
        "\n",
        "# printing out the cleared dictionary\n",
        "print(updated_car)\n",
        "\n",
        "# deleting the dictionary completely\n",
        "del updated_car\n"
      ],
      "execution_count": 205,
      "outputs": [
        {
          "output_type": "error",
          "ename": "KeyError",
          "evalue": "ignored",
          "traceback": [
            "\u001b[0;31m---------------------------------------------------------------------------\u001b[0m",
            "\u001b[0;31mKeyError\u001b[0m                                  Traceback (most recent call last)",
            "\u001b[0;32m<ipython-input-205-177f02230a2f>\u001b[0m in \u001b[0;36m<module>\u001b[0;34m()\u001b[0m\n\u001b[1;32m      3\u001b[0m \u001b[0;34m\u001b[0m\u001b[0m\n\u001b[1;32m      4\u001b[0m \u001b[0;31m# using the pop method\u001b[0m\u001b[0;34m\u001b[0m\u001b[0;34m\u001b[0m\u001b[0;34m\u001b[0m\u001b[0m\n\u001b[0;32m----> 5\u001b[0;31m \u001b[0mupdated_car\u001b[0m \u001b[0;34m=\u001b[0m \u001b[0mcar\u001b[0m\u001b[0;34m.\u001b[0m\u001b[0mpop\u001b[0m\u001b[0;34m(\u001b[0m\u001b[0;34m\"model\"\u001b[0m\u001b[0;34m)\u001b[0m\u001b[0;34m\u001b[0m\u001b[0;34m\u001b[0m\u001b[0m\n\u001b[0m\u001b[1;32m      6\u001b[0m \u001b[0;34m\u001b[0m\u001b[0m\n\u001b[1;32m      7\u001b[0m \u001b[0;31m# printing out the updated car dictionary\u001b[0m\u001b[0;34m\u001b[0m\u001b[0;34m\u001b[0m\u001b[0;34m\u001b[0m\u001b[0m\n",
            "\u001b[0;31mKeyError\u001b[0m: 'model'"
          ]
        }
      ]
    },
    {
      "cell_type": "code",
      "metadata": {
        "id": "hJDrF-_i7OzG",
        "colab": {
          "base_uri": "https://localhost:8080/"
        },
        "outputId": "52e25230-e1c9-4266-f4c6-fbb4d98be20a"
      },
      "source": [
        "# Example 3\n",
        "# Removing School from our_class dictionary\n",
        "\n",
        "# using the pop method\n",
        "our_class.pop(\"School\")\n",
        "\n",
        "# printing out the updated our_class dictionary\n",
        "print(our_class)\n",
        "\n",
        "# now clearing the dictionary \n",
        "our_class.clear()\n",
        "\n",
        "# printing out the cleared dictionary\n",
        "print(our_class)\n",
        "\n",
        "# deleting the dictionary completely\n",
        "del our_class"
      ],
      "execution_count": 206,
      "outputs": [
        {
          "output_type": "stream",
          "text": [
            "{'Name': '7 East', 'Students': 29, 'Wing': 'East'}\n",
            "{}\n"
          ],
          "name": "stdout"
        }
      ]
    },
    {
      "cell_type": "markdown",
      "metadata": {
        "id": "ZSQ6Uyb98jUU"
      },
      "source": [
        "### Challenges 1.7"
      ]
    },
    {
      "cell_type": "code",
      "metadata": {
        "id": "SJv-VzAa8liR",
        "colab": {
          "base_uri": "https://localhost:8080/",
          "height": 231
        },
        "outputId": "8cd0a347-547c-4edc-fa64-543124d015d0"
      },
      "source": [
        "# Challenge 1\n",
        "# Let's delete our family dictionary\n",
        "#\n",
        "del Family\n",
        "\n",
        "print (Family)"
      ],
      "execution_count": 208,
      "outputs": [
        {
          "output_type": "error",
          "ename": "NameError",
          "evalue": "ignored",
          "traceback": [
            "\u001b[0;31m---------------------------------------------------------------------------\u001b[0m",
            "\u001b[0;31mNameError\u001b[0m                                 Traceback (most recent call last)",
            "\u001b[0;32m<ipython-input-208-bf97de2ec9ca>\u001b[0m in \u001b[0;36m<module>\u001b[0;34m()\u001b[0m\n\u001b[1;32m      2\u001b[0m \u001b[0;31m# Let's delete our family dictionary\u001b[0m\u001b[0;34m\u001b[0m\u001b[0;34m\u001b[0m\u001b[0;34m\u001b[0m\u001b[0m\n\u001b[1;32m      3\u001b[0m \u001b[0;31m#\u001b[0m\u001b[0;34m\u001b[0m\u001b[0;34m\u001b[0m\u001b[0;34m\u001b[0m\u001b[0m\n\u001b[0;32m----> 4\u001b[0;31m \u001b[0;32mdel\u001b[0m \u001b[0mFamily\u001b[0m\u001b[0;34m\u001b[0m\u001b[0;34m\u001b[0m\u001b[0m\n\u001b[0m\u001b[1;32m      5\u001b[0m \u001b[0;34m\u001b[0m\u001b[0m\n\u001b[1;32m      6\u001b[0m \u001b[0mprint\u001b[0m \u001b[0;34m(\u001b[0m\u001b[0mFamily\u001b[0m\u001b[0;34m)\u001b[0m\u001b[0;34m\u001b[0m\u001b[0;34m\u001b[0m\u001b[0m\n",
            "\u001b[0;31mNameError\u001b[0m: name 'Family' is not defined"
          ]
        }
      ]
    },
    {
      "cell_type": "code",
      "metadata": {
        "id": "RtPPDlUg8mdN"
      },
      "source": [
        "# Challenge 2\n",
        "# Let's clear our anagrams dictionary\n",
        "#\n",
        "anagrams.clear()"
      ],
      "execution_count": 209,
      "outputs": []
    },
    {
      "cell_type": "code",
      "metadata": {
        "id": "de_1tLbS8mNr",
        "colab": {
          "base_uri": "https://localhost:8080/"
        },
        "outputId": "189bac1d-4d76-4c37-8fd2-e6880ccc514d"
      },
      "source": [
        "# Challenge 3\n",
        "# Let's add another fuctionality to our Naivas Supermarket program\n",
        "# The program will be updated to request the user to whether to delete \n",
        "# any product. If so, the user should perform the deletion respectively.\n",
        "#\n",
        "p = int (input(\"if you would like to delete the ammount of bread type 1 if not type 0  \"))\n",
        "q = int (input(\"if you would like to delete the ammount of milk type 1 if not type 0  \"))\n",
        "\n",
        "if p == 1:\n",
        "  del bread_l\n",
        "elif p == 0:\n",
        "  print (\"the quantity of bread remains\", reciept['bread_quantity'])\n",
        "\n",
        "\n",
        "if q == 1:\n",
        "  del bread_l\n",
        "elif q == 0:\n",
        "  print (\"the quantity of milk remains\", reciept['milk_quantity'])\n",
        "else :\n",
        "  print (\"The figure you input is invalid\")\n"
      ],
      "execution_count": 212,
      "outputs": [
        {
          "output_type": "stream",
          "text": [
            "if you would like to delete the ammount of bread type 1 if not type 0  0\n",
            "if you would like to delete the ammount of milk type 1 if not type 0  1\n",
            "the quantity of bread remains 20\n"
          ],
          "name": "stdout"
        }
      ]
    },
    {
      "cell_type": "code",
      "metadata": {
        "id": "0Qzajbfk5mPu"
      },
      "source": [
        ""
      ],
      "execution_count": null,
      "outputs": []
    }
  ]
}