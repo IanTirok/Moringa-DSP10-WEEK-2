{
  "nbformat": 4,
  "nbformat_minor": 0,
  "metadata": {
    "colab": {
      "name": "Copy of SQL Programming - Calculating Data with SQL",
      "provenance": [],
      "collapsed_sections": [],
      "toc_visible": true,
      "include_colab_link": true
    },
    "kernelspec": {
      "name": "python3",
      "display_name": "Python 3"
    }
  },
  "cells": [
    {
      "cell_type": "markdown",
      "metadata": {
        "id": "view-in-github",
        "colab_type": "text"
      },
      "source": [
        "<a href=\"https://colab.research.google.com/github/IanTirok/Moringa-DSP10-WEEK-2/blob/main/Copy_of_SQL_Programming_Calculating_Data_with_SQL%20MONDAY.ipynb\" target=\"_parent\"><img src=\"https://colab.research.google.com/assets/colab-badge.svg\" alt=\"Open In Colab\"/></a>"
      ]
    },
    {
      "cell_type": "markdown",
      "metadata": {
        "id": "--cnOLTPZ6MG"
      },
      "source": [
        "<font color=\"green\">*To start working on this notebook, or any other notebook that we will use in the Moringa Data Science Course, we will need to save our own copy of it. We can do this by clicking File > Save a Copy in Drive. We will then be able to make edits to our own copy of this notebook.*</font>"
      ]
    },
    {
      "cell_type": "markdown",
      "metadata": {
        "id": "5oWzigcLV06t"
      },
      "source": [
        "# SQL Programming - Calculating Data with SQL"
      ]
    },
    {
      "cell_type": "markdown",
      "metadata": {
        "id": "oGxfZo8LWZXx"
      },
      "source": [
        "## 1.0 Connecting to our Database"
      ]
    },
    {
      "cell_type": "code",
      "metadata": {
        "id": "aGOQCVTLWpSn",
        "colab": {
          "base_uri": "https://localhost:8080/",
          "height": 35
        },
        "outputId": "b256c92b-d624-481a-e7e3-c76b41f5065e"
      },
      "source": [
        "# We will first load the sql extension into our environment\n",
        "%load_ext sql\n",
        "\n",
        "# Then connect to our in memory sqlite database\n",
        "# NB: This database will cease to exist as soon as the database connection is closed. \n",
        "%sql sqlite://"
      ],
      "execution_count": 1,
      "outputs": [
        {
          "output_type": "execute_result",
          "data": {
            "application/vnd.google.colaboratory.intrinsic+json": {
              "type": "string"
            },
            "text/plain": [
              "'Connected: @None'"
            ]
          },
          "metadata": {
            "tags": []
          },
          "execution_count": 1
        }
      ]
    },
    {
      "cell_type": "markdown",
      "metadata": {
        "id": "HOnfqP8HWXgB"
      },
      "source": [
        "## 1.1 Importing Data from CSV files"
      ]
    },
    {
      "cell_type": "markdown",
      "metadata": {
        "id": "UDDmPdUHmOIT"
      },
      "source": [
        "Datasets used in this notebook:\n",
        "\n",
        "\n",
        "1.   **Population by Urban Centres, 2009**\n",
        "\n",
        "> This dataset shows the total population of urban centres in different Kenyan counties. ([Dataset Download](https://drive.google.com/a/moringaschool.com/file/d/1E-Ew-uGxWqO3HJLS0bX7DUAe-c93sdCO/view?usp=sharing))\n",
        "\n",
        "2.   **Population by Age, Sex and Educational Attainment in 2000 - 2009** \n",
        "\n",
        "> The dataset is from IIASA-VID Dataset (W Lutz, A Goujon, S K.C., W Sanderson. 2007. Reconstruction of population by age, sex and level of educational attainment of 120 countries for 1970-2000. Vienna Yearbook of Population Research, vol. 2007, pp 193-235). ([Dataset Download](https://drive.google.com/a/moringaschool.com/file/d/1Kx70v8SqGRJWkDccNkn31JJ5Jnq1OKM3/view?usp=sharing))\n",
        "\n",
        "3. **2014 - 2015 Government Projects Summary Sorted by Funding Source**\n",
        "\n",
        "> Based on 2014 - 2015 Estimated Finance allocations for Kenyan Government Projects. ([Dataset Download](https://drive.google.com/a/moringaschool.com/file/d/10Dh9psiaAUo_HyyN6WZK6re0bI4_joUG/view?usp=sharing))\n",
        "\n",
        "\n",
        "\n"
      ]
    },
    {
      "cell_type": "code",
      "metadata": {
        "id": "pfQPCUG1j63f"
      },
      "source": [
        "# Importing the pandas library\n",
        "# We will use a function read_csv from pandas to read our datasets as shown\n",
        "#\n",
        "import pandas as pd "
      ],
      "execution_count": 2,
      "outputs": []
    },
    {
      "cell_type": "code",
      "metadata": {
        "id": "wLNd4C2J12rZ",
        "colab": {
          "base_uri": "https://localhost:8080/",
          "height": 196
        },
        "outputId": "15ae2030-d944-4273-a7e6-5b912d64c827"
      },
      "source": [
        "# Loading our table from the respective CSV files \n",
        "with open('urban_centres_dataset.csv','r') as f:\n",
        "    Urban_Centres = pd.read_csv(f, index_col=0, encoding='utf-8')\n",
        "# saving the urban center CSV file into a database\n",
        "#%sql DROP TABLE if EXISTS Urban_Centres;\n",
        "%sql PERSIST Urban_Centres;\n",
        "\n",
        "# Displaying the first  5 entries \n",
        "%sql SELECT * FROM Urban_Centres LIMIT 5;"
      ],
      "execution_count": 4,
      "outputs": [
        {
          "output_type": "stream",
          "text": [
            " * sqlite://\n",
            " * sqlite://\n",
            "Done.\n"
          ],
          "name": "stdout"
        },
        {
          "output_type": "execute_result",
          "data": {
            "text/html": [
              "<table>\n",
              "    <thead>\n",
              "        <tr>\n",
              "            <th>Urban_centre</th>\n",
              "            <th>Total_population</th>\n",
              "            <th>Core_urban_population</th>\n",
              "            <th>Peri_urban_population</th>\n",
              "            <th>Sex_ratio</th>\n",
              "            <th>co-ordinates</th>\n",
              "            <th>OBJECTID</th>\n",
              "        </tr>\n",
              "    </thead>\n",
              "    <tbody>\n",
              "        <tr>\n",
              "            <td>Ahero</td>\n",
              "            <td>54194</td>\n",
              "            <td>8362</td>\n",
              "            <td>45832</td>\n",
              "            <td>92</td>\n",
              "            <td>(-0.156472052, 34.922629149999999)</td>\n",
              "            <td>0</td>\n",
              "        </tr>\n",
              "        <tr>\n",
              "            <td>Archers Post</td>\n",
              "            <td>6123</td>\n",
              "            <td>2683</td>\n",
              "            <td>3440</td>\n",
              "            <td>106</td>\n",
              "            <td>(0.64069109999999996, 37.6491483)</td>\n",
              "            <td>1</td>\n",
              "        </tr>\n",
              "        <tr>\n",
              "            <td>Awendo</td>\n",
              "            <td>108742</td>\n",
              "            <td>17909</td>\n",
              "            <td>90833</td>\n",
              "            <td>94</td>\n",
              "            <td>(-0.89444667099999997, 34.536880379999999)</td>\n",
              "            <td>2</td>\n",
              "        </tr>\n",
              "        <tr>\n",
              "            <td>Baragoi</td>\n",
              "            <td>7926</td>\n",
              "            <td>4628</td>\n",
              "            <td>3298</td>\n",
              "            <td>91</td>\n",
              "            <td>(1.786392475, 36.79148971)</td>\n",
              "            <td>3</td>\n",
              "        </tr>\n",
              "        <tr>\n",
              "            <td>Bissil</td>\n",
              "            <td>5345</td>\n",
              "            <td>5345</td>\n",
              "            <td>0</td>\n",
              "            <td>87</td>\n",
              "            <td>(-2.0938024999999998, 36.773857700000001)</td>\n",
              "            <td>4</td>\n",
              "        </tr>\n",
              "    </tbody>\n",
              "</table>"
            ],
            "text/plain": [
              "[('Ahero', 54194, 8362, 45832, 92, '(-0.156472052, 34.922629149999999)', 0),\n",
              " ('Archers Post', 6123, 2683, 3440, 106, '(0.64069109999999996, 37.6491483)', 1),\n",
              " ('Awendo', 108742, 17909, 90833, 94, '(-0.89444667099999997, 34.536880379999999)', 2),\n",
              " ('Baragoi', 7926, 4628, 3298, 91, '(1.786392475, 36.79148971)', 3),\n",
              " ('Bissil', 5345, 5345, 0, 87, '(-2.0938024999999998, 36.773857700000001)', 4)]"
            ]
          },
          "metadata": {
            "tags": []
          },
          "execution_count": 4
        }
      ]
    },
    {
      "cell_type": "code",
      "metadata": {
        "id": "iwCRvKEW152I",
        "colab": {
          "base_uri": "https://localhost:8080/",
          "height": 1000
        },
        "outputId": "481c650b-fcbe-45e1-a181-85a5bd924c20"
      },
      "source": [
        "# Let's load our households dataset below\n",
        "with open('households_dataset.csv','r') as f:\n",
        "    Households = pd.read_csv(f, index_col=0, encoding='utf-8') \n",
        "\n",
        "# Save the houshold dataset into a database\n",
        "#%sql DROP TABLE if EXISTS Households;\n",
        "%sql PERSIST Households;\n",
        "\n",
        "# Display the first 5 entries from the database\n",
        "%sql SELECT * FROM Households LIMIT 60;"
      ],
      "execution_count": 5,
      "outputs": [
        {
          "output_type": "stream",
          "text": [
            " * sqlite://\n",
            " * sqlite://\n",
            "Done.\n"
          ],
          "name": "stdout"
        },
        {
          "output_type": "execute_result",
          "data": {
            "text/html": [
              "<table>\n",
              "    <thead>\n",
              "        <tr>\n",
              "            <th>County</th>\n",
              "            <th>Gender</th>\n",
              "            <th>Age_Group_of_Household_head_15-24_%_</th>\n",
              "            <th>Age_Group_of_Household_head_25-34_%</th>\n",
              "            <th>Age_Group_of_Household_head_35-59_%</th>\n",
              "            <th>Age_Group_of_Household_head_60+_%</th>\n",
              "            <th>Number_of_households</th>\n",
              "            <th>County_Centroid</th>\n",
              "            <th>OBJECTID</th>\n",
              "        </tr>\n",
              "    </thead>\n",
              "    <tbody>\n",
              "        <tr>\n",
              "            <td>Mombasa</td>\n",
              "            <td>Female</td>\n",
              "            <td>16.8%</td>\n",
              "            <td>36.8%</td>\n",
              "            <td>39.5%</td>\n",
              "            <td>6.8%</td>\n",
              "            <td>59858</td>\n",
              "            <td>(-4.018795613, 39.653975520000003)</td>\n",
              "            <td>0</td>\n",
              "        </tr>\n",
              "        <tr>\n",
              "            <td>Kwale</td>\n",
              "            <td>Female</td>\n",
              "            <td>10.9%</td>\n",
              "            <td>25.4%</td>\n",
              "            <td>46.5%</td>\n",
              "            <td>17.1%</td>\n",
              "            <td>40265</td>\n",
              "            <td>(-4.1398571640000004, 39.15036963)</td>\n",
              "            <td>1</td>\n",
              "        </tr>\n",
              "        <tr>\n",
              "            <td>Kilifi</td>\n",
              "            <td>Female</td>\n",
              "            <td>12.5%</td>\n",
              "            <td>26.6%</td>\n",
              "            <td>46.2%</td>\n",
              "            <td>14.7%</td>\n",
              "            <td>64963</td>\n",
              "            <td>(-3.1731002359999998, 39.683055940000003)</td>\n",
              "            <td>2</td>\n",
              "        </tr>\n",
              "        <tr>\n",
              "            <td>Tana Rriver</td>\n",
              "            <td>Female</td>\n",
              "            <td>16.9%</td>\n",
              "            <td>25.6%</td>\n",
              "            <td>43.3%</td>\n",
              "            <td>14.2%</td>\n",
              "            <td>14447</td>\n",
              "            <td>(-1.557428783, 39.412916930000002)</td>\n",
              "            <td>3</td>\n",
              "        </tr>\n",
              "        <tr>\n",
              "            <td>Lamu</td>\n",
              "            <td>Female</td>\n",
              "            <td>9.5%</td>\n",
              "            <td>22.6%</td>\n",
              "            <td>48.7%</td>\n",
              "            <td>19.2%</td>\n",
              "            <td>5515</td>\n",
              "            <td>(-2.0391399720000001, 40.767880740000003)</td>\n",
              "            <td>4</td>\n",
              "        </tr>\n",
              "        <tr>\n",
              "            <td>Taita Taveta</td>\n",
              "            <td>Female</td>\n",
              "            <td>7.3%</td>\n",
              "            <td>19.4%</td>\n",
              "            <td>49.1%</td>\n",
              "            <td>24.1%</td>\n",
              "            <td>23915</td>\n",
              "            <td>(-3.4337677430000002, 38.417085350000001)</td>\n",
              "            <td>5</td>\n",
              "        </tr>\n",
              "        <tr>\n",
              "            <td>Marsabit</td>\n",
              "            <td>Female</td>\n",
              "            <td>14.9%</td>\n",
              "            <td>22.6%</td>\n",
              "            <td>40.7%</td>\n",
              "            <td>21.7%</td>\n",
              "            <td>21594</td>\n",
              "            <td>(2.9818558570000002, 37.570225430000001)</td>\n",
              "            <td>6</td>\n",
              "        </tr>\n",
              "        <tr>\n",
              "            <td>Nairobi</td>\n",
              "            <td>Female</td>\n",
              "            <td>17.8%</td>\n",
              "            <td>39%</td>\n",
              "            <td>38.3%</td>\n",
              "            <td>4.8%</td>\n",
              "            <td>233009</td>\n",
              "            <td>(-1.2926489320000001, 36.864854780000002)</td>\n",
              "            <td>7</td>\n",
              "        </tr>\n",
              "        <tr>\n",
              "            <td>Nyandarua</td>\n",
              "            <td>Female</td>\n",
              "            <td>6.8%</td>\n",
              "            <td>21.1%</td>\n",
              "            <td>47.9%</td>\n",
              "            <td>24.2%</td>\n",
              "            <td>49694</td>\n",
              "            <td>(-0.32014949999999998, 36.480091790000003)</td>\n",
              "            <td>8</td>\n",
              "        </tr>\n",
              "        <tr>\n",
              "            <td>Nyeri</td>\n",
              "            <td>Female</td>\n",
              "            <td>0.8%</td>\n",
              "            <td>14.6%</td>\n",
              "            <td>49.1%</td>\n",
              "            <td>35.5%</td>\n",
              "            <td>71938</td>\n",
              "            <td>(-0.34295653199999998, 36.953878789999997)</td>\n",
              "            <td>9</td>\n",
              "        </tr>\n",
              "        <tr>\n",
              "            <td>Kirinyaga</td>\n",
              "            <td>Female</td>\n",
              "            <td>6.6%</td>\n",
              "            <td>20.8%</td>\n",
              "            <td>43.4%</td>\n",
              "            <td>29.1%</td>\n",
              "            <td>46190</td>\n",
              "            <td>(-0.522402857, 37.318654029999998)</td>\n",
              "            <td>10</td>\n",
              "        </tr>\n",
              "        <tr>\n",
              "            <td>Murang&#x27;a</td>\n",
              "            <td>Female</td>\n",
              "            <td>5.9%</td>\n",
              "            <td>18.8%</td>\n",
              "            <td>43.6%</td>\n",
              "            <td>31.7%</td>\n",
              "            <td>95232</td>\n",
              "            <td>(-0.80897564700000002, 37.03181197)</td>\n",
              "            <td>11</td>\n",
              "        </tr>\n",
              "        <tr>\n",
              "            <td>Kiambu</td>\n",
              "            <td>Female</td>\n",
              "            <td>9.8%</td>\n",
              "            <td>26.3%</td>\n",
              "            <td>42.9%</td>\n",
              "            <td>21%</td>\n",
              "            <td>132230</td>\n",
              "            <td>(-1.0689645299999999, 36.821352779999998)</td>\n",
              "            <td>12</td>\n",
              "        </tr>\n",
              "        <tr>\n",
              "            <td>Isiolo</td>\n",
              "            <td>Female</td>\n",
              "            <td>16.6%</td>\n",
              "            <td>26%</td>\n",
              "            <td>41.8%</td>\n",
              "            <td>15.6%</td>\n",
              "            <td>12070</td>\n",
              "            <td>(1.011526022, 38.539068929999999)</td>\n",
              "            <td>13</td>\n",
              "        </tr>\n",
              "        <tr>\n",
              "            <td>Meru</td>\n",
              "            <td>Female</td>\n",
              "            <td>9.1%</td>\n",
              "            <td>23.4%</td>\n",
              "            <td>44.1%</td>\n",
              "            <td>23.4%</td>\n",
              "            <td>91807</td>\n",
              "            <td>(0.14893278900000001, 37.748684419999996)</td>\n",
              "            <td>14</td>\n",
              "        </tr>\n",
              "        <tr>\n",
              "            <td>Tharaka</td>\n",
              "            <td>Female</td>\n",
              "            <td>7.7%</td>\n",
              "            <td>22.4%</td>\n",
              "            <td>44.6%</td>\n",
              "            <td>25.4%</td>\n",
              "            <td>28325</td>\n",
              "            <td>(-0.19534945200000001, 37.932166090000003)</td>\n",
              "            <td>15</td>\n",
              "        </tr>\n",
              "        <tr>\n",
              "            <td>Embu</td>\n",
              "            <td>Female</td>\n",
              "            <td>7.4%</td>\n",
              "            <td>21.1%</td>\n",
              "            <td>45.9%</td>\n",
              "            <td>25.6%</td>\n",
              "            <td>43021</td>\n",
              "            <td>(-0.60206859300000004, 37.625252140000001)</td>\n",
              "            <td>16</td>\n",
              "        </tr>\n",
              "        <tr>\n",
              "            <td>Kitui</td>\n",
              "            <td>Female</td>\n",
              "            <td>9%</td>\n",
              "            <td>24.6%</td>\n",
              "            <td>46.4%</td>\n",
              "            <td>19.9%</td>\n",
              "            <td>92758</td>\n",
              "            <td>(-1.4867170190000001, 38.405995099999998)</td>\n",
              "            <td>17</td>\n",
              "        </tr>\n",
              "        <tr>\n",
              "            <td>Machakos</td>\n",
              "            <td>Female</td>\n",
              "            <td>8.3%</td>\n",
              "            <td>24.2%</td>\n",
              "            <td>46.3%</td>\n",
              "            <td>21.1%</td>\n",
              "            <td>96858</td>\n",
              "            <td>(-1.2728947989999999, 37.41023963)</td>\n",
              "            <td>18</td>\n",
              "        </tr>\n",
              "        <tr>\n",
              "            <td>Makueni</td>\n",
              "            <td>Female</td>\n",
              "            <td>7.7%</td>\n",
              "            <td>23.1%</td>\n",
              "            <td>47.9%</td>\n",
              "            <td>21.4%</td>\n",
              "            <td>77106</td>\n",
              "            <td>(-2.150161105, 37.783676219999997)</td>\n",
              "            <td>19</td>\n",
              "        </tr>\n",
              "        <tr>\n",
              "            <td>Garissa</td>\n",
              "            <td>Female</td>\n",
              "            <td>10.8%</td>\n",
              "            <td>26.3%</td>\n",
              "            <td>47.6%</td>\n",
              "            <td>15.3%</td>\n",
              "            <td>25015</td>\n",
              "            <td>(-0.48705736100000002, 40.182868569999997)</td>\n",
              "            <td>20</td>\n",
              "        </tr>\n",
              "        <tr>\n",
              "            <td>Wajir</td>\n",
              "            <td>Female</td>\n",
              "            <td>7.8%</td>\n",
              "            <td>23.9%</td>\n",
              "            <td>51.1%</td>\n",
              "            <td>17.2%</td>\n",
              "            <td>16859</td>\n",
              "            <td>(1.8078659530000001, 40.035683050000003)</td>\n",
              "            <td>21</td>\n",
              "        </tr>\n",
              "        <tr>\n",
              "            <td>Mandera</td>\n",
              "            <td>Female</td>\n",
              "            <td>6%</td>\n",
              "            <td>24.9%</td>\n",
              "            <td>57%</td>\n",
              "            <td>12.1%</td>\n",
              "            <td>23428</td>\n",
              "            <td>(3.4378074010000002, 40.735090630000002)</td>\n",
              "            <td>22</td>\n",
              "        </tr>\n",
              "        <tr>\n",
              "            <td>Narok</td>\n",
              "            <td>Male</td>\n",
              "            <td>10.6%</td>\n",
              "            <td>34.9%</td>\n",
              "            <td>44.2%</td>\n",
              "            <td>10.2%</td>\n",
              "            <td>111229</td>\n",
              "            <td>(-1.254599408, 35.57472679)</td>\n",
              "            <td>23</td>\n",
              "        </tr>\n",
              "        <tr>\n",
              "            <td>Siaya</td>\n",
              "            <td>Female</td>\n",
              "            <td>7.7%</td>\n",
              "            <td>17.6%</td>\n",
              "            <td>43%</td>\n",
              "            <td>31.7%</td>\n",
              "            <td>90120</td>\n",
              "            <td>(-0.059702986999999999, 34.246468110000002)</td>\n",
              "            <td>24</td>\n",
              "        </tr>\n",
              "        <tr>\n",
              "            <td>Kisumu</td>\n",
              "            <td>Female</td>\n",
              "            <td>10.1%</td>\n",
              "            <td>23.2%</td>\n",
              "            <td>43.8%</td>\n",
              "            <td>22.9%</td>\n",
              "            <td>82503</td>\n",
              "            <td>(-0.16775005200000001, 34.834951770000004)</td>\n",
              "            <td>25</td>\n",
              "        </tr>\n",
              "        <tr>\n",
              "            <td>Homa Bay</td>\n",
              "            <td>Female</td>\n",
              "            <td>10.6%</td>\n",
              "            <td>23.3%</td>\n",
              "            <td>42.4%</td>\n",
              "            <td>23.7%</td>\n",
              "            <td>90126</td>\n",
              "            <td>(-0.54096459799999996, 34.357439360000001)</td>\n",
              "            <td>26</td>\n",
              "        </tr>\n",
              "        <tr>\n",
              "            <td>Migori</td>\n",
              "            <td>Female</td>\n",
              "            <td>11%</td>\n",
              "            <td>24.4%</td>\n",
              "            <td>44.6%</td>\n",
              "            <td>20%</td>\n",
              "            <td>68964</td>\n",
              "            <td>(-0.987697987, 34.368357680000003)</td>\n",
              "            <td>27</td>\n",
              "        </tr>\n",
              "        <tr>\n",
              "            <td>Kisii</td>\n",
              "            <td>Female</td>\n",
              "            <td>11%</td>\n",
              "            <td>23.6%</td>\n",
              "            <td>44.1%</td>\n",
              "            <td>21.4%</td>\n",
              "            <td>84024</td>\n",
              "            <td>(-0.77064898299999995, 34.775954489999997)</td>\n",
              "            <td>28</td>\n",
              "        </tr>\n",
              "        <tr>\n",
              "            <td>Nyamira</td>\n",
              "            <td>Female</td>\n",
              "            <td>9.7%</td>\n",
              "            <td>23.8%</td>\n",
              "            <td>43.8%</td>\n",
              "            <td>22.7%</td>\n",
              "            <td>43093</td>\n",
              "            <td>(-0.64099632399999995, 34.965002290000001)</td>\n",
              "            <td>29</td>\n",
              "        </tr>\n",
              "        <tr>\n",
              "            <td>Turkana</td>\n",
              "            <td>Female</td>\n",
              "            <td>7.5%</td>\n",
              "            <td>22.7%</td>\n",
              "            <td>52.1%</td>\n",
              "            <td>17.7%</td>\n",
              "            <td>45571</td>\n",
              "            <td>(3.430630909, 35.426022940000003)</td>\n",
              "            <td>30</td>\n",
              "        </tr>\n",
              "        <tr>\n",
              "            <td>West Pokot</td>\n",
              "            <td>Female</td>\n",
              "            <td>13.5%</td>\n",
              "            <td>27.4%</td>\n",
              "            <td>42.6%</td>\n",
              "            <td>16.6%</td>\n",
              "            <td>32411</td>\n",
              "            <td>(1.7226525589999999, 35.245003330000003)</td>\n",
              "            <td>31</td>\n",
              "        </tr>\n",
              "        <tr>\n",
              "            <td>Samburu</td>\n",
              "            <td>Female</td>\n",
              "            <td>20.5%</td>\n",
              "            <td>25.6%</td>\n",
              "            <td>38.7%</td>\n",
              "            <td>15.2%</td>\n",
              "            <td>22492</td>\n",
              "            <td>(1.3198759849999999, 37.116767690000003)</td>\n",
              "            <td>32</td>\n",
              "        </tr>\n",
              "        <tr>\n",
              "            <td>Trans Nzoia</td>\n",
              "            <td>Female</td>\n",
              "            <td>9.6%</td>\n",
              "            <td>24.2%</td>\n",
              "            <td>48.8%</td>\n",
              "            <td>17.4%</td>\n",
              "            <td>50069</td>\n",
              "            <td>(1.051858832, 34.957441060000001)</td>\n",
              "            <td>33</td>\n",
              "        </tr>\n",
              "        <tr>\n",
              "            <td>Baringo</td>\n",
              "            <td>Female</td>\n",
              "            <td>12%</td>\n",
              "            <td>26.2%</td>\n",
              "            <td>42.8%</td>\n",
              "            <td>18.9%</td>\n",
              "            <td>38778</td>\n",
              "            <td>(0.67326285699999999, 35.943438069999999)</td>\n",
              "            <td>34</td>\n",
              "        </tr>\n",
              "        <tr>\n",
              "            <td>Uasin Gishu</td>\n",
              "            <td>Female</td>\n",
              "            <td>13.2%</td>\n",
              "            <td>28.7%</td>\n",
              "            <td>43.9%</td>\n",
              "            <td>14.3%</td>\n",
              "            <td>58083</td>\n",
              "            <td>(0.53381106099999998, 35.319233859999997)</td>\n",
              "            <td>35</td>\n",
              "        </tr>\n",
              "        <tr>\n",
              "            <td>Elgeyo-Marakwet</td>\n",
              "            <td>Female</td>\n",
              "            <td>8.6%</td>\n",
              "            <td>22.7%</td>\n",
              "            <td>44.8%</td>\n",
              "            <td>23.9%</td>\n",
              "            <td>23967</td>\n",
              "            <td>(0.80064760099999999, 35.536420939999999)</td>\n",
              "            <td>36</td>\n",
              "        </tr>\n",
              "        <tr>\n",
              "            <td>Nandi</td>\n",
              "            <td>Female</td>\n",
              "            <td>7.3%</td>\n",
              "            <td>23.1%</td>\n",
              "            <td>47.9%</td>\n",
              "            <td>21.6%</td>\n",
              "            <td>43158</td>\n",
              "            <td>(0.18557890399999999, 35.113956139999999)</td>\n",
              "            <td>37</td>\n",
              "        </tr>\n",
              "        <tr>\n",
              "            <td>Laikipia</td>\n",
              "            <td>Female</td>\n",
              "            <td>11.6%</td>\n",
              "            <td>24.4%</td>\n",
              "            <td>45.1%</td>\n",
              "            <td>18.9%</td>\n",
              "            <td>37050</td>\n",
              "            <td>(0.32376154499999998, 36.768709860000001)</td>\n",
              "            <td>38</td>\n",
              "        </tr>\n",
              "        <tr>\n",
              "            <td>Nakuru</td>\n",
              "            <td>Female</td>\n",
              "            <td>12%</td>\n",
              "            <td>28.4%</td>\n",
              "            <td>44.1%</td>\n",
              "            <td>15.5%</td>\n",
              "            <td>128641</td>\n",
              "            <td>(-0.46427603699999997, 36.077737190000001)</td>\n",
              "            <td>39</td>\n",
              "        </tr>\n",
              "        <tr>\n",
              "            <td>Narok</td>\n",
              "            <td>Female</td>\n",
              "            <td>16.4%</td>\n",
              "            <td>28.5%</td>\n",
              "            <td>43%</td>\n",
              "            <td>12%</td>\n",
              "            <td>57991</td>\n",
              "            <td>(-1.254599408, 35.57472679)</td>\n",
              "            <td>40</td>\n",
              "        </tr>\n",
              "        <tr>\n",
              "            <td>Kajiado</td>\n",
              "            <td>Female</td>\n",
              "            <td>17.2%</td>\n",
              "            <td>31.1%</td>\n",
              "            <td>40.7%</td>\n",
              "            <td>11%</td>\n",
              "            <td>54399</td>\n",
              "            <td>(-2.1218753260000001, 36.908413529999997)</td>\n",
              "            <td>41</td>\n",
              "        </tr>\n",
              "        <tr>\n",
              "            <td>Kericho</td>\n",
              "            <td>Female</td>\n",
              "            <td>10.9%</td>\n",
              "            <td>24.5%</td>\n",
              "            <td>45.7%</td>\n",
              "            <td>18.8%</td>\n",
              "            <td>34464</td>\n",
              "            <td>(-0.24299188099999999, 35.336599509999999)</td>\n",
              "            <td>42</td>\n",
              "        </tr>\n",
              "        <tr>\n",
              "            <td>Bomet</td>\n",
              "            <td>Female</td>\n",
              "            <td>11.9%</td>\n",
              "            <td>24.1%</td>\n",
              "            <td>42.7%</td>\n",
              "            <td>21.3%</td>\n",
              "            <td>52580</td>\n",
              "            <td>(-0.69127657600000003, 35.28292999)</td>\n",
              "            <td>43</td>\n",
              "        </tr>\n",
              "        <tr>\n",
              "            <td>Kakamega</td>\n",
              "            <td>Female</td>\n",
              "            <td>9%</td>\n",
              "            <td>21.1%</td>\n",
              "            <td>46%</td>\n",
              "            <td>24%</td>\n",
              "            <td>122818</td>\n",
              "            <td>(0.40615735600000002, 34.745339440000002)</td>\n",
              "            <td>44</td>\n",
              "        </tr>\n",
              "        <tr>\n",
              "            <td>Vihiga</td>\n",
              "            <td>Female</td>\n",
              "            <td>6%</td>\n",
              "            <td>17.5%</td>\n",
              "            <td>45.7%</td>\n",
              "            <td>30.7%</td>\n",
              "            <td>49777</td>\n",
              "            <td>(0.078465934000000001, 34.722131930000003)</td>\n",
              "            <td>45</td>\n",
              "        </tr>\n",
              "        <tr>\n",
              "            <td>Bungoma</td>\n",
              "            <td>Female</td>\n",
              "            <td>8.4%</td>\n",
              "            <td>21.5%</td>\n",
              "            <td>47%</td>\n",
              "            <td>23.2%</td>\n",
              "            <td>83260</td>\n",
              "            <td>(0.75075376699999996, 34.639862209999997)</td>\n",
              "            <td>46</td>\n",
              "        </tr>\n",
              "        <tr>\n",
              "            <td>Busia</td>\n",
              "            <td>Female</td>\n",
              "            <td>9.7%</td>\n",
              "            <td>21.2%</td>\n",
              "            <td>44.7%</td>\n",
              "            <td>24.4%</td>\n",
              "            <td>58364</td>\n",
              "            <td>(0.385079797, 34.191127909999999)</td>\n",
              "            <td>47</td>\n",
              "        </tr>\n",
              "        <tr>\n",
              "            <td>Nairobi</td>\n",
              "            <td>Male</td>\n",
              "            <td>12.5%</td>\n",
              "            <td>42.6%</td>\n",
              "            <td>41.5%</td>\n",
              "            <td>3.5%</td>\n",
              "            <td>752007</td>\n",
              "            <td>(-1.2926489320000001, 36.864854780000002)</td>\n",
              "            <td>48</td>\n",
              "        </tr>\n",
              "        <tr>\n",
              "            <td>Nyandarua</td>\n",
              "            <td>Male</td>\n",
              "            <td>6.4%</td>\n",
              "            <td>27.1%</td>\n",
              "            <td>50.1%</td>\n",
              "            <td>16.4%</td>\n",
              "            <td>94185</td>\n",
              "            <td>(-0.32014949999999998, 36.480091790000003)</td>\n",
              "            <td>49</td>\n",
              "        </tr>\n",
              "        <tr>\n",
              "            <td>Nyeri</td>\n",
              "            <td>Male</td>\n",
              "            <td>0.9%</td>\n",
              "            <td>16.2%</td>\n",
              "            <td>56.5%</td>\n",
              "            <td>26.4%</td>\n",
              "            <td>129765</td>\n",
              "            <td>(-0.34295653199999998, 36.953878789999997)</td>\n",
              "            <td>50</td>\n",
              "        </tr>\n",
              "        <tr>\n",
              "            <td>Kirinyaga</td>\n",
              "            <td>Male</td>\n",
              "            <td>6.1%</td>\n",
              "            <td>29.2%</td>\n",
              "            <td>50.3%</td>\n",
              "            <td>14.4%</td>\n",
              "            <td>108030</td>\n",
              "            <td>(-0.522402857, 37.318654029999998)</td>\n",
              "            <td>51</td>\n",
              "        </tr>\n",
              "        <tr>\n",
              "            <td>Murang&#x27;a</td>\n",
              "            <td>Male</td>\n",
              "            <td>4.7%</td>\n",
              "            <td>21.8%</td>\n",
              "            <td>50.1%</td>\n",
              "            <td>23.4%</td>\n",
              "            <td>160464</td>\n",
              "            <td>(-0.80897564700000002, 37.03181197)</td>\n",
              "            <td>52</td>\n",
              "        </tr>\n",
              "        <tr>\n",
              "            <td>Kiambu</td>\n",
              "            <td>Male</td>\n",
              "            <td>9%</td>\n",
              "            <td>34%</td>\n",
              "            <td>46.6%</td>\n",
              "            <td>10.4%</td>\n",
              "            <td>337014</td>\n",
              "            <td>(-1.0689645299999999, 36.821352779999998)</td>\n",
              "            <td>53</td>\n",
              "        </tr>\n",
              "        <tr>\n",
              "            <td>Mombasa</td>\n",
              "            <td>Male</td>\n",
              "            <td>11.2%</td>\n",
              "            <td>40.5%</td>\n",
              "            <td>43.6%</td>\n",
              "            <td>4.7%</td>\n",
              "            <td>208842</td>\n",
              "            <td>(-4.018795613, 39.653975520000003)</td>\n",
              "            <td>54</td>\n",
              "        </tr>\n",
              "        <tr>\n",
              "            <td>Kwale</td>\n",
              "            <td>Male</td>\n",
              "            <td>6.8%</td>\n",
              "            <td>26.4%</td>\n",
              "            <td>50.9%</td>\n",
              "            <td>15.9%</td>\n",
              "            <td>81782</td>\n",
              "            <td>(-4.1398571640000004, 39.15036963)</td>\n",
              "            <td>55</td>\n",
              "        </tr>\n",
              "        <tr>\n",
              "            <td>Kilifi</td>\n",
              "            <td>Male</td>\n",
              "            <td>8.2%</td>\n",
              "            <td>27.8%</td>\n",
              "            <td>49%</td>\n",
              "            <td>15.1%</td>\n",
              "            <td>134801</td>\n",
              "            <td>(-3.1731002359999998, 39.683055940000003)</td>\n",
              "            <td>56</td>\n",
              "        </tr>\n",
              "        <tr>\n",
              "            <td>Tana Rriver</td>\n",
              "            <td>Male</td>\n",
              "            <td>10.3%</td>\n",
              "            <td>29.2%</td>\n",
              "            <td>47.4%</td>\n",
              "            <td>13.1%</td>\n",
              "            <td>32967</td>\n",
              "            <td>(-1.557428783, 39.412916930000002)</td>\n",
              "            <td>57</td>\n",
              "        </tr>\n",
              "        <tr>\n",
              "            <td>Lamu</td>\n",
              "            <td>Male</td>\n",
              "            <td>9.6%</td>\n",
              "            <td>28.7%</td>\n",
              "            <td>47.8%</td>\n",
              "            <td>13.9%</td>\n",
              "            <td>16669</td>\n",
              "            <td>(-2.0391399720000001, 40.767880740000003)</td>\n",
              "            <td>58</td>\n",
              "        </tr>\n",
              "        <tr>\n",
              "            <td>Taita Taveta</td>\n",
              "            <td>Male</td>\n",
              "            <td>7.8%</td>\n",
              "            <td>25.6%</td>\n",
              "            <td>49.5%</td>\n",
              "            <td>17.1%</td>\n",
              "            <td>47175</td>\n",
              "            <td>(-3.4337677430000002, 38.417085350000001)</td>\n",
              "            <td>59</td>\n",
              "        </tr>\n",
              "    </tbody>\n",
              "</table>"
            ],
            "text/plain": [
              "[('Mombasa', 'Female', '16.8%', '36.8%', '39.5%', '6.8%', 59858, '(-4.018795613, 39.653975520000003)', 0),\n",
              " ('Kwale', 'Female', '10.9%', '25.4%', '46.5%', '17.1%', 40265, '(-4.1398571640000004, 39.15036963)', 1),\n",
              " ('Kilifi', 'Female', '12.5%', '26.6%', '46.2%', '14.7%', 64963, '(-3.1731002359999998, 39.683055940000003)', 2),\n",
              " ('Tana Rriver', 'Female', '16.9%', '25.6%', '43.3%', '14.2%', 14447, '(-1.557428783, 39.412916930000002)', 3),\n",
              " ('Lamu', 'Female', '9.5%', '22.6%', '48.7%', '19.2%', 5515, '(-2.0391399720000001, 40.767880740000003)', 4),\n",
              " ('Taita Taveta', 'Female', '7.3%', '19.4%', '49.1%', '24.1%', 23915, '(-3.4337677430000002, 38.417085350000001)', 5),\n",
              " ('Marsabit', 'Female', '14.9%', '22.6%', '40.7%', '21.7%', 21594, '(2.9818558570000002, 37.570225430000001)', 6),\n",
              " ('Nairobi', 'Female', '17.8%', '39%', '38.3%', '4.8%', 233009, '(-1.2926489320000001, 36.864854780000002)', 7),\n",
              " ('Nyandarua', 'Female', '6.8%', '21.1%', '47.9%', '24.2%', 49694, '(-0.32014949999999998, 36.480091790000003)', 8),\n",
              " ('Nyeri', 'Female', '0.8%', '14.6%', '49.1%', '35.5%', 71938, '(-0.34295653199999998, 36.953878789999997)', 9),\n",
              " ('Kirinyaga', 'Female', '6.6%', '20.8%', '43.4%', '29.1%', 46190, '(-0.522402857, 37.318654029999998)', 10),\n",
              " (\"Murang'a\", 'Female', '5.9%', '18.8%', '43.6%', '31.7%', 95232, '(-0.80897564700000002, 37.03181197)', 11),\n",
              " ('Kiambu', 'Female', '9.8%', '26.3%', '42.9%', '21%', 132230, '(-1.0689645299999999, 36.821352779999998)', 12),\n",
              " ('Isiolo', 'Female', '16.6%', '26%', '41.8%', '15.6%', 12070, '(1.011526022, 38.539068929999999)', 13),\n",
              " ('Meru', 'Female', '9.1%', '23.4%', '44.1%', '23.4%', 91807, '(0.14893278900000001, 37.748684419999996)', 14),\n",
              " ('Tharaka', 'Female', '7.7%', '22.4%', '44.6%', '25.4%', 28325, '(-0.19534945200000001, 37.932166090000003)', 15),\n",
              " ('Embu', 'Female', '7.4%', '21.1%', '45.9%', '25.6%', 43021, '(-0.60206859300000004, 37.625252140000001)', 16),\n",
              " ('Kitui', 'Female', '9%', '24.6%', '46.4%', '19.9%', 92758, '(-1.4867170190000001, 38.405995099999998)', 17),\n",
              " ('Machakos', 'Female', '8.3%', '24.2%', '46.3%', '21.1%', 96858, '(-1.2728947989999999, 37.41023963)', 18),\n",
              " ('Makueni', 'Female', '7.7%', '23.1%', '47.9%', '21.4%', 77106, '(-2.150161105, 37.783676219999997)', 19),\n",
              " ('Garissa', 'Female', '10.8%', '26.3%', '47.6%', '15.3%', 25015, '(-0.48705736100000002, 40.182868569999997)', 20),\n",
              " ('Wajir', 'Female', '7.8%', '23.9%', '51.1%', '17.2%', 16859, '(1.8078659530000001, 40.035683050000003)', 21),\n",
              " ('Mandera', 'Female', '6%', '24.9%', '57%', '12.1%', 23428, '(3.4378074010000002, 40.735090630000002)', 22),\n",
              " ('Narok', 'Male', '10.6%', '34.9%', '44.2%', '10.2%', 111229, '(-1.254599408, 35.57472679)', 23),\n",
              " ('Siaya', 'Female', '7.7%', '17.6%', '43%', '31.7%', 90120, '(-0.059702986999999999, 34.246468110000002)', 24),\n",
              " ('Kisumu', 'Female', '10.1%', '23.2%', '43.8%', '22.9%', 82503, '(-0.16775005200000001, 34.834951770000004)', 25),\n",
              " ('Homa Bay', 'Female', '10.6%', '23.3%', '42.4%', '23.7%', 90126, '(-0.54096459799999996, 34.357439360000001)', 26),\n",
              " ('Migori', 'Female', '11%', '24.4%', '44.6%', '20%', 68964, '(-0.987697987, 34.368357680000003)', 27),\n",
              " ('Kisii', 'Female', '11%', '23.6%', '44.1%', '21.4%', 84024, '(-0.77064898299999995, 34.775954489999997)', 28),\n",
              " ('Nyamira', 'Female', '9.7%', '23.8%', '43.8%', '22.7%', 43093, '(-0.64099632399999995, 34.965002290000001)', 29),\n",
              " ('Turkana', 'Female', '7.5%', '22.7%', '52.1%', '17.7%', 45571, '(3.430630909, 35.426022940000003)', 30),\n",
              " ('West Pokot', 'Female', '13.5%', '27.4%', '42.6%', '16.6%', 32411, '(1.7226525589999999, 35.245003330000003)', 31),\n",
              " ('Samburu', 'Female', '20.5%', '25.6%', '38.7%', '15.2%', 22492, '(1.3198759849999999, 37.116767690000003)', 32),\n",
              " ('Trans Nzoia', 'Female', '9.6%', '24.2%', '48.8%', '17.4%', 50069, '(1.051858832, 34.957441060000001)', 33),\n",
              " ('Baringo', 'Female', '12%', '26.2%', '42.8%', '18.9%', 38778, '(0.67326285699999999, 35.943438069999999)', 34),\n",
              " ('Uasin Gishu', 'Female', '13.2%', '28.7%', '43.9%', '14.3%', 58083, '(0.53381106099999998, 35.319233859999997)', 35),\n",
              " ('Elgeyo-Marakwet', 'Female', '8.6%', '22.7%', '44.8%', '23.9%', 23967, '(0.80064760099999999, 35.536420939999999)', 36),\n",
              " ('Nandi', 'Female', '7.3%', '23.1%', '47.9%', '21.6%', 43158, '(0.18557890399999999, 35.113956139999999)', 37),\n",
              " ('Laikipia', 'Female', '11.6%', '24.4%', '45.1%', '18.9%', 37050, '(0.32376154499999998, 36.768709860000001)', 38),\n",
              " ('Nakuru', 'Female', '12%', '28.4%', '44.1%', '15.5%', 128641, '(-0.46427603699999997, 36.077737190000001)', 39),\n",
              " ('Narok', 'Female', '16.4%', '28.5%', '43%', '12%', 57991, '(-1.254599408, 35.57472679)', 40),\n",
              " ('Kajiado', 'Female', '17.2%', '31.1%', '40.7%', '11%', 54399, '(-2.1218753260000001, 36.908413529999997)', 41),\n",
              " ('Kericho', 'Female', '10.9%', '24.5%', '45.7%', '18.8%', 34464, '(-0.24299188099999999, 35.336599509999999)', 42),\n",
              " ('Bomet', 'Female', '11.9%', '24.1%', '42.7%', '21.3%', 52580, '(-0.69127657600000003, 35.28292999)', 43),\n",
              " ('Kakamega', 'Female', '9%', '21.1%', '46%', '24%', 122818, '(0.40615735600000002, 34.745339440000002)', 44),\n",
              " ('Vihiga', 'Female', '6%', '17.5%', '45.7%', '30.7%', 49777, '(0.078465934000000001, 34.722131930000003)', 45),\n",
              " ('Bungoma', 'Female', '8.4%', '21.5%', '47%', '23.2%', 83260, '(0.75075376699999996, 34.639862209999997)', 46),\n",
              " ('Busia', 'Female', '9.7%', '21.2%', '44.7%', '24.4%', 58364, '(0.385079797, 34.191127909999999)', 47),\n",
              " ('Nairobi', 'Male', '12.5%', '42.6%', '41.5%', '3.5%', 752007, '(-1.2926489320000001, 36.864854780000002)', 48),\n",
              " ('Nyandarua', 'Male', '6.4%', '27.1%', '50.1%', '16.4%', 94185, '(-0.32014949999999998, 36.480091790000003)', 49),\n",
              " ('Nyeri', 'Male', '0.9%', '16.2%', '56.5%', '26.4%', 129765, '(-0.34295653199999998, 36.953878789999997)', 50),\n",
              " ('Kirinyaga', 'Male', '6.1%', '29.2%', '50.3%', '14.4%', 108030, '(-0.522402857, 37.318654029999998)', 51),\n",
              " (\"Murang'a\", 'Male', '4.7%', '21.8%', '50.1%', '23.4%', 160464, '(-0.80897564700000002, 37.03181197)', 52),\n",
              " ('Kiambu', 'Male', '9%', '34%', '46.6%', '10.4%', 337014, '(-1.0689645299999999, 36.821352779999998)', 53),\n",
              " ('Mombasa', 'Male', '11.2%', '40.5%', '43.6%', '4.7%', 208842, '(-4.018795613, 39.653975520000003)', 54),\n",
              " ('Kwale', 'Male', '6.8%', '26.4%', '50.9%', '15.9%', 81782, '(-4.1398571640000004, 39.15036963)', 55),\n",
              " ('Kilifi', 'Male', '8.2%', '27.8%', '49%', '15.1%', 134801, '(-3.1731002359999998, 39.683055940000003)', 56),\n",
              " ('Tana Rriver', 'Male', '10.3%', '29.2%', '47.4%', '13.1%', 32967, '(-1.557428783, 39.412916930000002)', 57),\n",
              " ('Lamu', 'Male', '9.6%', '28.7%', '47.8%', '13.9%', 16669, '(-2.0391399720000001, 40.767880740000003)', 58),\n",
              " ('Taita Taveta', 'Male', '7.8%', '25.6%', '49.5%', '17.1%', 47175, '(-3.4337677430000002, 38.417085350000001)', 59)]"
            ]
          },
          "metadata": {
            "tags": []
          },
          "execution_count": 5
        }
      ]
    },
    {
      "cell_type": "code",
      "metadata": {
        "id": "R8zR1rtm18iA",
        "colab": {
          "base_uri": "https://localhost:8080/",
          "height": 196
        },
        "outputId": "594fc183-fd9f-4dad-d2e3-ab059dc07c75"
      },
      "source": [
        "# Let's load our government project dataset below\n",
        "with open('government_project_summary.csv','r') as f:\n",
        "    Government_Budget = pd.read_csv(f, index_col=0, encoding='utf-8') \n",
        "\n",
        "# Save the governmwnt budget dataset into a database\n",
        "#%sql DROP TABLE if EXISTS Government_Budget;\n",
        "%sql PERSIST Government_Budget;\n",
        "\n",
        "# Display the first 5 entries from the database\n",
        "%sql SELECT * FROM Government_Budget LIMIT 5;"
      ],
      "execution_count": 6,
      "outputs": [
        {
          "output_type": "stream",
          "text": [
            " * sqlite://\n",
            " * sqlite://\n",
            "Done.\n"
          ],
          "name": "stdout"
        },
        {
          "output_type": "execute_result",
          "data": {
            "text/html": [
              "<table>\n",
              "    <thead>\n",
              "        <tr>\n",
              "            <th>Total_-_GOK_Budget_Est_KES</th>\n",
              "            <th>Total_-_Loan_Budget_Est_KES</th>\n",
              "            <th>Total_-_Grant_Budget_Est_KES</th>\n",
              "            <th>Total_Budget_Supported__by_Donors_KES</th>\n",
              "            <th>Total_Project_Cost_KES</th>\n",
              "            <th>Funding_Source</th>\n",
              "            <th>OBJECTID</th>\n",
              "        </tr>\n",
              "    </thead>\n",
              "    <tbody>\n",
              "        <tr>\n",
              "            <td>111285239</td>\n",
              "            <td>609690025</td>\n",
              "            <td>2100000000</td>\n",
              "            <td>2709690025</td>\n",
              "            <td>25162065397</td>\n",
              "            <td> Government of Sweden</td>\n",
              "            <td>0</td>\n",
              "        </tr>\n",
              "        <tr>\n",
              "            <td>2009277440</td>\n",
              "            <td>7443790000</td>\n",
              "            <td>1436627037</td>\n",
              "            <td>8880417037</td>\n",
              "            <td>12567296534</td>\n",
              "            <td> United Nations Development Programme (UNDP)</td>\n",
              "            <td>1</td>\n",
              "        </tr>\n",
              "        <tr>\n",
              "            <td>50034000</td>\n",
              "            <td>0</td>\n",
              "            <td>1705540000</td>\n",
              "            <td>1705540000</td>\n",
              "            <td>4015101726</td>\n",
              "            <td> World Food Programme</td>\n",
              "            <td>2</td>\n",
              "        </tr>\n",
              "        <tr>\n",
              "            <td>24267555932</td>\n",
              "            <td>144199000000</td>\n",
              "            <td>1700000000</td>\n",
              "            <td>145899000000</td>\n",
              "            <td>445033000000</td>\n",
              "            <td> African Development Bank/ Fund</td>\n",
              "            <td>3</td>\n",
              "        </tr>\n",
              "        <tr>\n",
              "            <td>1160000000</td>\n",
              "            <td>2085000000</td>\n",
              "            <td>600000000</td>\n",
              "            <td>2685000000</td>\n",
              "            <td>174293000000</td>\n",
              "            <td> European Investment Bank</td>\n",
              "            <td>4</td>\n",
              "        </tr>\n",
              "    </tbody>\n",
              "</table>"
            ],
            "text/plain": [
              "[(111285239, 609690025, 2100000000, 2709690025, 25162065397, ' Government of Sweden', 0),\n",
              " (2009277440, 7443790000, 1436627037, 8880417037, 12567296534, ' United Nations Development Programme (UNDP)', 1),\n",
              " (50034000, 0, 1705540000, 1705540000, 4015101726, ' World Food Programme', 2),\n",
              " (24267555932, 144199000000, 1700000000, 145899000000, 445033000000, ' African Development Bank/ Fund', 3),\n",
              " (1160000000, 2085000000, 600000000, 2685000000, 174293000000, ' European Investment Bank', 4)]"
            ]
          },
          "metadata": {
            "tags": []
          },
          "execution_count": 6
        }
      ]
    },
    {
      "cell_type": "markdown",
      "metadata": {
        "id": "j7blcxQkWtbr"
      },
      "source": [
        "## 1.2 Using the AVG() aggregate function"
      ]
    },
    {
      "cell_type": "code",
      "metadata": {
        "id": "xejqEVS6XE3K",
        "colab": {
          "base_uri": "https://localhost:8080/",
          "height": 95
        },
        "outputId": "9ca6428e-85a0-4003-b27c-6f282eb8c910"
      },
      "source": [
        "# Example 1 \n",
        "# We can find the average Total_population for urban centres in Kenya \n",
        "# by using the AVG() function as shown;\n",
        "#\n",
        "%%sql\n",
        "SELECT AVG(Total_population) FROM Urban_Centres;"
      ],
      "execution_count": null,
      "outputs": [
        {
          "output_type": "stream",
          "text": [
            " * sqlite://\n",
            "Done.\n"
          ],
          "name": "stdout"
        },
        {
          "output_type": "execute_result",
          "data": {
            "text/html": [
              "<table>\n",
              "    <tr>\n",
              "        <th>AVG(Total_population)</th>\n",
              "    </tr>\n",
              "    <tr>\n",
              "        <td>66232.38202247191</td>\n",
              "    </tr>\n",
              "</table>"
            ],
            "text/plain": [
              "[(66232.38202247191,)]"
            ]
          },
          "metadata": {
            "tags": []
          },
          "execution_count": 10
        }
      ]
    },
    {
      "cell_type": "code",
      "metadata": {
        "id": "pSul8oZAXODb",
        "colab": {
          "base_uri": "https://localhost:8080/",
          "height": 95
        },
        "outputId": "4de2e91b-5e6f-4237-8be1-0fe68fa8e1e2"
      },
      "source": [
        "# Example 2\n",
        "# What was the average funding provided by donors? \n",
        "# \n",
        "%%sql\n",
        "SELECT AVG(Total_Budget_Supported__by_Donors_KES) FROM Government_Budget;"
      ],
      "execution_count": null,
      "outputs": [
        {
          "output_type": "stream",
          "text": [
            " * sqlite://\n",
            "Done.\n"
          ],
          "name": "stdout"
        },
        {
          "output_type": "execute_result",
          "data": {
            "text/html": [
              "<table>\n",
              "    <tr>\n",
              "        <th>AVG(Total_Budget_Supported__by_Donors_KES)</th>\n",
              "    </tr>\n",
              "    <tr>\n",
              "        <td>12154422103.65</td>\n",
              "    </tr>\n",
              "</table>"
            ],
            "text/plain": [
              "[(12154422103.65,)]"
            ]
          },
          "metadata": {
            "tags": []
          },
          "execution_count": 11
        }
      ]
    },
    {
      "cell_type": "code",
      "metadata": {
        "id": "fRbUWnBnXN4G",
        "colab": {
          "base_uri": "https://localhost:8080/",
          "height": 95
        },
        "outputId": "18f1bcf9-e2f3-4300-84dc-c660230380f8"
      },
      "source": [
        "# Example 3\n",
        "# What is the average no. of female households?\n",
        "#\n",
        "%%sql\n",
        "SELECT AVG(Number_of_households) FROM Households WHERE gender=\"Female\";"
      ],
      "execution_count": null,
      "outputs": [
        {
          "output_type": "stream",
          "text": [
            " * sqlite://\n",
            "Done.\n"
          ],
          "name": "stdout"
        },
        {
          "output_type": "execute_result",
          "data": {
            "text/html": [
              "<table>\n",
              "    <tr>\n",
              "        <th>AVG(Number_of_households)</th>\n",
              "    </tr>\n",
              "    <tr>\n",
              "        <td>59974.46808510638</td>\n",
              "    </tr>\n",
              "</table>"
            ],
            "text/plain": [
              "[(59974.46808510638,)]"
            ]
          },
          "metadata": {
            "tags": []
          },
          "execution_count": 12
        }
      ]
    },
    {
      "cell_type": "markdown",
      "metadata": {
        "id": "0kirRUMgXaMs"
      },
      "source": [
        "### <font color=\"green\">1.2 Challenges</font>"
      ]
    },
    {
      "cell_type": "code",
      "metadata": {
        "id": "xbn296l_Xp0a",
        "colab": {
          "base_uri": "https://localhost:8080/",
          "height": 95
        },
        "outputId": "adb8d3c5-6011-475f-d4c9-e16c147d4af5"
      },
      "source": [
        "# Challenge 1\n",
        "# Calculate the average core urban population?\n",
        "#\n",
        "%%sql\n",
        "SELECT AVG(Core_urban_population\t) FROM Urban_Centres"
      ],
      "execution_count": 7,
      "outputs": [
        {
          "output_type": "stream",
          "text": [
            " * sqlite://\n",
            "Done.\n"
          ],
          "name": "stdout"
        },
        {
          "output_type": "execute_result",
          "data": {
            "text/html": [
              "<table>\n",
              "    <thead>\n",
              "        <tr>\n",
              "            <th>AVG(Core_urban_population\t)</th>\n",
              "        </tr>\n",
              "    </thead>\n",
              "    <tbody>\n",
              "        <tr>\n",
              "            <td>49875.38764044944</td>\n",
              "        </tr>\n",
              "    </tbody>\n",
              "</table>"
            ],
            "text/plain": [
              "[(49875.38764044944,)]"
            ]
          },
          "metadata": {
            "tags": []
          },
          "execution_count": 7
        }
      ]
    },
    {
      "cell_type": "code",
      "metadata": {
        "id": "UT-YLh2mXqkx",
        "colab": {
          "base_uri": "https://localhost:8080/",
          "height": 95
        },
        "outputId": "d6f8828e-a3f7-402c-ab6a-66485e14a42a"
      },
      "source": [
        "# Challenge 2\n",
        "# Calculate the average grant for project allocations to the Kenyan government?\n",
        "# \n",
        "%%sql\n",
        "SELECT AVG(\"Total_-_Grant_Budget_Est_KES\") FROM Government_Budget;"
      ],
      "execution_count": 14,
      "outputs": [
        {
          "output_type": "stream",
          "text": [
            " * sqlite://\n",
            "Done.\n"
          ],
          "name": "stdout"
        },
        {
          "output_type": "execute_result",
          "data": {
            "text/html": [
              "<table>\n",
              "    <thead>\n",
              "        <tr>\n",
              "            <th>AVG(&quot;Total_-_Grant_Budget_Est_KES&quot;)</th>\n",
              "        </tr>\n",
              "    </thead>\n",
              "    <tbody>\n",
              "        <tr>\n",
              "            <td>2783716826.775</td>\n",
              "        </tr>\n",
              "    </tbody>\n",
              "</table>"
            ],
            "text/plain": [
              "[(2783716826.775,)]"
            ]
          },
          "metadata": {
            "tags": []
          },
          "execution_count": 14
        }
      ]
    },
    {
      "cell_type": "code",
      "metadata": {
        "id": "VjBWjGp9XqWY",
        "colab": {
          "base_uri": "https://localhost:8080/",
          "height": 95
        },
        "outputId": "f27283e7-8720-459f-f6fb-6c339163dd16"
      },
      "source": [
        "# Challenge 3\n",
        "# Calculate the average number of male households in Kenya\n",
        "# with an age group of atleast 30% household age group of 25 - 34yrs?\n",
        "# \n",
        "%%sql\n",
        "SELECT AVG(\"Number_of_households\") FROM Households\n",
        "Where (\"Gender\") = \"Male\" and (\"Age_Group_of_Household_head_25-34_%\") > 30\n",
        ";"
      ],
      "execution_count": 17,
      "outputs": [
        {
          "output_type": "stream",
          "text": [
            " * sqlite://\n",
            "Done.\n"
          ],
          "name": "stdout"
        },
        {
          "output_type": "execute_result",
          "data": {
            "text/html": [
              "<table>\n",
              "    <thead>\n",
              "        <tr>\n",
              "            <th>AVG(&quot;Number_of_households&quot;)</th>\n",
              "        </tr>\n",
              "    </thead>\n",
              "    <tbody>\n",
              "        <tr>\n",
              "            <td>191076.76470588235</td>\n",
              "        </tr>\n",
              "    </tbody>\n",
              "</table>"
            ],
            "text/plain": [
              "[(191076.76470588235,)]"
            ]
          },
          "metadata": {
            "tags": []
          },
          "execution_count": 17
        }
      ]
    },
    {
      "cell_type": "markdown",
      "metadata": {
        "id": "xeNCrrnOWvIi"
      },
      "source": [
        "## 1.3 Performing Arithmetic Operations\n"
      ]
    },
    {
      "cell_type": "code",
      "metadata": {
        "id": "NQaUfmLAX3-n",
        "colab": {
          "base_uri": "https://localhost:8080/",
          "height": 74
        },
        "outputId": "104dfd66-80ad-4bc6-966b-bad97831793c"
      },
      "source": [
        "# Example 1\n",
        "# Let's do some data cleaning procedures by trying to find out the number \n",
        "# of records whose addition of core urban population \n",
        "# and peri urban population does not add up to the total urban population.\n",
        "#\n",
        "%%sql\n",
        "SELECT * FROM Urban_Centres WHERE (Core_urban_population + Peri_urban_population) != Total_population;"
      ],
      "execution_count": 18,
      "outputs": [
        {
          "output_type": "stream",
          "text": [
            " * sqlite://\n",
            "Done.\n"
          ],
          "name": "stdout"
        },
        {
          "output_type": "execute_result",
          "data": {
            "text/html": [
              "<table>\n",
              "    <thead>\n",
              "        <tr>\n",
              "            <th>Urban_centre</th>\n",
              "            <th>Total_population</th>\n",
              "            <th>Core_urban_population</th>\n",
              "            <th>Peri_urban_population</th>\n",
              "            <th>Sex_ratio</th>\n",
              "            <th>co-ordinates</th>\n",
              "            <th>OBJECTID</th>\n",
              "        </tr>\n",
              "    </thead>\n",
              "    <tbody>\n",
              "    </tbody>\n",
              "</table>"
            ],
            "text/plain": [
              "[]"
            ]
          },
          "metadata": {
            "tags": []
          },
          "execution_count": 18
        }
      ]
    },
    {
      "cell_type": "code",
      "metadata": {
        "id": "KLPKHaXgX32_",
        "colab": {
          "base_uri": "https://localhost:8080/",
          "height": 1000
        },
        "outputId": "6cfc8093-8721-434b-f4b1-1c462db01e0b"
      },
      "source": [
        "# Example 2 \n",
        "# Which urban centers' difference between the core urban population \n",
        "# and the peri urban population was less than 1000?\n",
        "#\n",
        "%%sql \n",
        "SELECT * FROM Urban_Centres WHERE (Core_urban_population - Peri_urban_population) < 1000"
      ],
      "execution_count": 19,
      "outputs": [
        {
          "output_type": "stream",
          "text": [
            " * sqlite://\n",
            "Done.\n"
          ],
          "name": "stdout"
        },
        {
          "output_type": "execute_result",
          "data": {
            "text/html": [
              "<table>\n",
              "    <thead>\n",
              "        <tr>\n",
              "            <th>Urban_centre</th>\n",
              "            <th>Total_population</th>\n",
              "            <th>Core_urban_population</th>\n",
              "            <th>Peri_urban_population</th>\n",
              "            <th>Sex_ratio</th>\n",
              "            <th>co-ordinates</th>\n",
              "            <th>OBJECTID</th>\n",
              "        </tr>\n",
              "    </thead>\n",
              "    <tbody>\n",
              "        <tr>\n",
              "            <td>Ahero</td>\n",
              "            <td>54194</td>\n",
              "            <td>8362</td>\n",
              "            <td>45832</td>\n",
              "            <td>92</td>\n",
              "            <td>(-0.156472052, 34.922629149999999)</td>\n",
              "            <td>0</td>\n",
              "        </tr>\n",
              "        <tr>\n",
              "            <td>Archers Post</td>\n",
              "            <td>6123</td>\n",
              "            <td>2683</td>\n",
              "            <td>3440</td>\n",
              "            <td>106</td>\n",
              "            <td>(0.64069109999999996, 37.6491483)</td>\n",
              "            <td>1</td>\n",
              "        </tr>\n",
              "        <tr>\n",
              "            <td>Awendo</td>\n",
              "            <td>108742</td>\n",
              "            <td>17909</td>\n",
              "            <td>90833</td>\n",
              "            <td>94</td>\n",
              "            <td>(-0.89444667099999997, 34.536880379999999)</td>\n",
              "            <td>2</td>\n",
              "        </tr>\n",
              "        <tr>\n",
              "            <td>Bomet</td>\n",
              "            <td>83440</td>\n",
              "            <td>6742</td>\n",
              "            <td>76698</td>\n",
              "            <td>98</td>\n",
              "            <td>(-0.76932068200000003, 35.350992400000003)</td>\n",
              "            <td>5</td>\n",
              "        </tr>\n",
              "        <tr>\n",
              "            <td>Bondo</td>\n",
              "            <td>33197</td>\n",
              "            <td>14478</td>\n",
              "            <td>18719</td>\n",
              "            <td>91</td>\n",
              "            <td>(-0.085401447000000005, 34.274145799999999)</td>\n",
              "            <td>6</td>\n",
              "        </tr>\n",
              "        <tr>\n",
              "            <td>Butere</td>\n",
              "            <td>12503</td>\n",
              "            <td>4448</td>\n",
              "            <td>8055</td>\n",
              "            <td>88</td>\n",
              "            <td>(0.21676480000000001, 34.475354799999998)</td>\n",
              "            <td>9</td>\n",
              "        </tr>\n",
              "        <tr>\n",
              "            <td>Chogoria</td>\n",
              "            <td>28530</td>\n",
              "            <td>6434</td>\n",
              "            <td>22096</td>\n",
              "            <td>100</td>\n",
              "            <td>(-0.22342748200000001, 37.616568299999997)</td>\n",
              "            <td>11</td>\n",
              "        </tr>\n",
              "        <tr>\n",
              "            <td>Chuka</td>\n",
              "            <td>43064</td>\n",
              "            <td>7614</td>\n",
              "            <td>35450</td>\n",
              "            <td>96</td>\n",
              "            <td>(-0.32020847200000002, 37.63234044)</td>\n",
              "            <td>12</td>\n",
              "        </tr>\n",
              "        <tr>\n",
              "            <td>Homa Bay</td>\n",
              "            <td>59165</td>\n",
              "            <td>28593</td>\n",
              "            <td>30572</td>\n",
              "            <td>91</td>\n",
              "            <td>(-0.51342902499999998, 34.46228764)</td>\n",
              "            <td>29</td>\n",
              "        </tr>\n",
              "        <tr>\n",
              "            <td>Iten/Tambach</td>\n",
              "            <td>44513</td>\n",
              "            <td>9012</td>\n",
              "            <td>35501</td>\n",
              "            <td>95</td>\n",
              "            <td>(0.68984582100000003, 35.512455490000001)</td>\n",
              "            <td>32</td>\n",
              "        </tr>\n",
              "        <tr>\n",
              "            <td>Kandara</td>\n",
              "            <td>12889</td>\n",
              "            <td>0</td>\n",
              "            <td>12889</td>\n",
              "            <td>93</td>\n",
              "            <td>(-0.87894349299999996, 36.984498909999999)</td>\n",
              "            <td>39</td>\n",
              "        </tr>\n",
              "        <tr>\n",
              "            <td>Kangundo-Tala</td>\n",
              "            <td>218722</td>\n",
              "            <td>13119</td>\n",
              "            <td>205603</td>\n",
              "            <td>98</td>\n",
              "            <td>(-1.2877069160000001, 37.330792109999997)</td>\n",
              "            <td>40</td>\n",
              "        </tr>\n",
              "        <tr>\n",
              "            <td>Kapsabet</td>\n",
              "            <td>87850</td>\n",
              "            <td>23303</td>\n",
              "            <td>64547</td>\n",
              "            <td>98</td>\n",
              "            <td>(0.22172877399999999, 35.110666889999997)</td>\n",
              "            <td>42</td>\n",
              "        </tr>\n",
              "        <tr>\n",
              "            <td>Katito</td>\n",
              "            <td>7840</td>\n",
              "            <td>3067</td>\n",
              "            <td>4773</td>\n",
              "            <td>89</td>\n",
              "            <td>(-0.26996690000000001, 34.969609400000003)</td>\n",
              "            <td>47</td>\n",
              "        </tr>\n",
              "        <tr>\n",
              "            <td>Kendu Bay</td>\n",
              "            <td>16030</td>\n",
              "            <td>5213</td>\n",
              "            <td>10817</td>\n",
              "            <td>92</td>\n",
              "            <td>(-0.34699610800000003, 34.649178089999999)</td>\n",
              "            <td>49</td>\n",
              "        </tr>\n",
              "        <tr>\n",
              "            <td>Kericho</td>\n",
              "            <td>127042</td>\n",
              "            <td>40813</td>\n",
              "            <td>86229</td>\n",
              "            <td>102</td>\n",
              "            <td>(-0.353571784, 35.28978755)</td>\n",
              "            <td>50</td>\n",
              "        </tr>\n",
              "        <tr>\n",
              "            <td>Keroka</td>\n",
              "            <td>49853</td>\n",
              "            <td>6949</td>\n",
              "            <td>42904</td>\n",
              "            <td>90</td>\n",
              "            <td>(-0.759323847, 34.95244804)</td>\n",
              "            <td>51</td>\n",
              "        </tr>\n",
              "        <tr>\n",
              "            <td>Kimilili</td>\n",
              "            <td>94719</td>\n",
              "            <td>40928</td>\n",
              "            <td>53791</td>\n",
              "            <td>94</td>\n",
              "            <td>(0.79948592500000004, 34.711513910000001)</td>\n",
              "            <td>58</td>\n",
              "        </tr>\n",
              "        <tr>\n",
              "            <td>Kiminini</td>\n",
              "            <td>11642</td>\n",
              "            <td>5523</td>\n",
              "            <td>6119</td>\n",
              "            <td>85</td>\n",
              "            <td>(0.90853975600000003, 34.92532886)</td>\n",
              "            <td>59</td>\n",
              "        </tr>\n",
              "        <tr>\n",
              "            <td>Kinango</td>\n",
              "            <td>7682</td>\n",
              "            <td>4317</td>\n",
              "            <td>3365</td>\n",
              "            <td>93</td>\n",
              "            <td>(-4.1045338190000002, 39.313578219999997)</td>\n",
              "            <td>60</td>\n",
              "        </tr>\n",
              "        <tr>\n",
              "            <td>Kipkelion</td>\n",
              "            <td>47902</td>\n",
              "            <td>3582</td>\n",
              "            <td>44320</td>\n",
              "            <td>98</td>\n",
              "            <td>(-0.17626963900000001, 35.466227510000003)</td>\n",
              "            <td>61</td>\n",
              "        </tr>\n",
              "        <tr>\n",
              "            <td>Kitui</td>\n",
              "            <td>115183</td>\n",
              "            <td>19067</td>\n",
              "            <td>96116</td>\n",
              "            <td>94</td>\n",
              "            <td>(-1.3667407, 38.009941499999996)</td>\n",
              "            <td>67</td>\n",
              "        </tr>\n",
              "        <tr>\n",
              "            <td>Kwale</td>\n",
              "            <td>21378</td>\n",
              "            <td>6037</td>\n",
              "            <td>15341</td>\n",
              "            <td>91</td>\n",
              "            <td>(-4.1487008769999996, 39.455571740000003)</td>\n",
              "            <td>69</td>\n",
              "        </tr>\n",
              "        <tr>\n",
              "            <td>Londiani</td>\n",
              "            <td>44843</td>\n",
              "            <td>5405</td>\n",
              "            <td>39438</td>\n",
              "            <td>99</td>\n",
              "            <td>(-0.14696747299999999, 35.6003002)</td>\n",
              "            <td>76</td>\n",
              "        </tr>\n",
              "        <tr>\n",
              "            <td>Luanda</td>\n",
              "            <td>49156</td>\n",
              "            <td>7149</td>\n",
              "            <td>42007</td>\n",
              "            <td>92</td>\n",
              "            <td>(0.045638918000000001, 34.583453140000003)</td>\n",
              "            <td>77</td>\n",
              "        </tr>\n",
              "        <tr>\n",
              "            <td>Lumakanda</td>\n",
              "            <td>10548</td>\n",
              "            <td>2478</td>\n",
              "            <td>8070</td>\n",
              "            <td>99</td>\n",
              "            <td>(0.63659500000000002, 35.0108751)</td>\n",
              "            <td>78</td>\n",
              "        </tr>\n",
              "        <tr>\n",
              "            <td>Machakos</td>\n",
              "            <td>150467</td>\n",
              "            <td>40819</td>\n",
              "            <td>109648</td>\n",
              "            <td>97</td>\n",
              "            <td>(-1.506809311, 37.258834540000002)</td>\n",
              "            <td>79</td>\n",
              "        </tr>\n",
              "        <tr>\n",
              "            <td>Makuyu</td>\n",
              "            <td>47452</td>\n",
              "            <td>6955</td>\n",
              "            <td>40497</td>\n",
              "            <td>99</td>\n",
              "            <td>(-0.88942170300000001, 37.186287710000002)</td>\n",
              "            <td>86</td>\n",
              "        </tr>\n",
              "        <tr>\n",
              "            <td>Maragwa</td>\n",
              "            <td>25081</td>\n",
              "            <td>4263</td>\n",
              "            <td>20818</td>\n",
              "            <td>95</td>\n",
              "            <td>(-0.790646933, 37.129400400000002)</td>\n",
              "            <td>90</td>\n",
              "        </tr>\n",
              "        <tr>\n",
              "            <td>Marimanti</td>\n",
              "            <td>8535</td>\n",
              "            <td>1638</td>\n",
              "            <td>6897</td>\n",
              "            <td>97</td>\n",
              "            <td>(-0.1558254, 37.957881399999998)</td>\n",
              "            <td>95</td>\n",
              "        </tr>\n",
              "        <tr>\n",
              "            <td>Masimba</td>\n",
              "            <td>34973</td>\n",
              "            <td>1146</td>\n",
              "            <td>33827</td>\n",
              "            <td>90</td>\n",
              "            <td>(-0.86112840000000002, 34.930944199999999)</td>\n",
              "            <td>99</td>\n",
              "        </tr>\n",
              "        <tr>\n",
              "            <td>Matuu</td>\n",
              "            <td>51025</td>\n",
              "            <td>10569</td>\n",
              "            <td>40456</td>\n",
              "            <td>96</td>\n",
              "            <td>(-1.1431591999999999, 37.530126899999999)</td>\n",
              "            <td>101</td>\n",
              "        </tr>\n",
              "        <tr>\n",
              "            <td>Muhoroni</td>\n",
              "            <td>34379</td>\n",
              "            <td>14756</td>\n",
              "            <td>19623</td>\n",
              "            <td>108</td>\n",
              "            <td>(-0.12975930099999999, 35.189717829999999)</td>\n",
              "            <td>116</td>\n",
              "        </tr>\n",
              "        <tr>\n",
              "            <td>Mukurwe-Ini</td>\n",
              "            <td>5402</td>\n",
              "            <td>2168</td>\n",
              "            <td>3234</td>\n",
              "            <td>95</td>\n",
              "            <td>(-0.55321465400000003, 37.041835319999997)</td>\n",
              "            <td>118</td>\n",
              "        </tr>\n",
              "        <tr>\n",
              "            <td>Mumias</td>\n",
              "            <td>102208</td>\n",
              "            <td>38623</td>\n",
              "            <td>63585</td>\n",
              "            <td>95</td>\n",
              "            <td>(0.33317140000000001, 34.477972800000003)</td>\n",
              "            <td>119</td>\n",
              "        </tr>\n",
              "        <tr>\n",
              "            <td>Nyamira</td>\n",
              "            <td>56857</td>\n",
              "            <td>12657</td>\n",
              "            <td>44200</td>\n",
              "            <td>92</td>\n",
              "            <td>(-0.56332979999999999, 34.893209900000002)</td>\n",
              "            <td>137</td>\n",
              "        </tr>\n",
              "        <tr>\n",
              "            <td>Ol Kalou</td>\n",
              "            <td>67186</td>\n",
              "            <td>7010</td>\n",
              "            <td>60176</td>\n",
              "            <td>96</td>\n",
              "            <td>(-0.26985817099999998, 36.370259300000001)</td>\n",
              "            <td>140</td>\n",
              "        </tr>\n",
              "        <tr>\n",
              "            <td>Oyugis</td>\n",
              "            <td>36528</td>\n",
              "            <td>8917</td>\n",
              "            <td>27611</td>\n",
              "            <td>89</td>\n",
              "            <td>(-0.49686285099999999, 34.730712910000001)</td>\n",
              "            <td>143</td>\n",
              "        </tr>\n",
              "        <tr>\n",
              "            <td>Rongo</td>\n",
              "            <td>81968</td>\n",
              "            <td>12282</td>\n",
              "            <td>69686</td>\n",
              "            <td>92</td>\n",
              "            <td>(-0.74350079099999999, 34.604594759999998)</td>\n",
              "            <td>146</td>\n",
              "        </tr>\n",
              "        <tr>\n",
              "            <td>Runyenjes</td>\n",
              "            <td>19434</td>\n",
              "            <td>1956</td>\n",
              "            <td>17478</td>\n",
              "            <td>95</td>\n",
              "            <td>(-0.40199000499999998, 37.558866020000004)</td>\n",
              "            <td>148</td>\n",
              "        </tr>\n",
              "        <tr>\n",
              "            <td>Shamata</td>\n",
              "            <td>9221</td>\n",
              "            <td>2921</td>\n",
              "            <td>6300</td>\n",
              "            <td>96</td>\n",
              "            <td>(-0.1164949, 36.479957200000001)</td>\n",
              "            <td>150</td>\n",
              "        </tr>\n",
              "        <tr>\n",
              "            <td>Suneka</td>\n",
              "            <td>50961</td>\n",
              "            <td>5688</td>\n",
              "            <td>45273</td>\n",
              "            <td>92</td>\n",
              "            <td>(-0.67782799999999999, 34.700317200000001)</td>\n",
              "            <td>158</td>\n",
              "        </tr>\n",
              "        <tr>\n",
              "            <td>Uriri</td>\n",
              "            <td>6202</td>\n",
              "            <td>0</td>\n",
              "            <td>6202</td>\n",
              "            <td>90</td>\n",
              "            <td>(0.031698400000000002, 34.451698)</td>\n",
              "            <td>167</td>\n",
              "        </tr>\n",
              "        <tr>\n",
              "            <td>Vihiga</td>\n",
              "            <td>124391</td>\n",
              "            <td>36380</td>\n",
              "            <td>88011</td>\n",
              "            <td>92</td>\n",
              "            <td>(0.30366979, 34.94499751)</td>\n",
              "            <td>169</td>\n",
              "        </tr>\n",
              "        <tr>\n",
              "            <td>Wajir</td>\n",
              "            <td>82106</td>\n",
              "            <td>16188</td>\n",
              "            <td>65918</td>\n",
              "            <td>111</td>\n",
              "            <td>(1.7462282250000001, 40.057254749999998)</td>\n",
              "            <td>171</td>\n",
              "        </tr>\n",
              "        <tr>\n",
              "            <td>Wamba</td>\n",
              "            <td>6059</td>\n",
              "            <td>2579</td>\n",
              "            <td>3480</td>\n",
              "            <td>99</td>\n",
              "            <td>(0.98577954499999998, 37.32137101)</td>\n",
              "            <td>172</td>\n",
              "        </tr>\n",
              "        <tr>\n",
              "            <td>Webuye</td>\n",
              "            <td>49767</td>\n",
              "            <td>23364</td>\n",
              "            <td>26403</td>\n",
              "            <td>97</td>\n",
              "            <td>(0.61901399499999998, 34.765001550000001)</td>\n",
              "            <td>175</td>\n",
              "        </tr>\n",
              "        <tr>\n",
              "            <td>Wote</td>\n",
              "            <td>67542</td>\n",
              "            <td>9433</td>\n",
              "            <td>58109</td>\n",
              "            <td>99</td>\n",
              "            <td>(-1.7848607000000001, 37.612123099999998)</td>\n",
              "            <td>176</td>\n",
              "        </tr>\n",
              "    </tbody>\n",
              "</table>"
            ],
            "text/plain": [
              "[('Ahero', 54194, 8362, 45832, 92, '(-0.156472052, 34.922629149999999)', 0),\n",
              " ('Archers Post', 6123, 2683, 3440, 106, '(0.64069109999999996, 37.6491483)', 1),\n",
              " ('Awendo', 108742, 17909, 90833, 94, '(-0.89444667099999997, 34.536880379999999)', 2),\n",
              " ('Bomet', 83440, 6742, 76698, 98, '(-0.76932068200000003, 35.350992400000003)', 5),\n",
              " ('Bondo', 33197, 14478, 18719, 91, '(-0.085401447000000005, 34.274145799999999)', 6),\n",
              " ('Butere', 12503, 4448, 8055, 88, '(0.21676480000000001, 34.475354799999998)', 9),\n",
              " ('Chogoria', 28530, 6434, 22096, 100, '(-0.22342748200000001, 37.616568299999997)', 11),\n",
              " ('Chuka', 43064, 7614, 35450, 96, '(-0.32020847200000002, 37.63234044)', 12),\n",
              " ('Homa Bay', 59165, 28593, 30572, 91, '(-0.51342902499999998, 34.46228764)', 29),\n",
              " ('Iten/Tambach', 44513, 9012, 35501, 95, '(0.68984582100000003, 35.512455490000001)', 32),\n",
              " ('Kandara', 12889, 0, 12889, 93, '(-0.87894349299999996, 36.984498909999999)', 39),\n",
              " ('Kangundo-Tala', 218722, 13119, 205603, 98, '(-1.2877069160000001, 37.330792109999997)', 40),\n",
              " ('Kapsabet', 87850, 23303, 64547, 98, '(0.22172877399999999, 35.110666889999997)', 42),\n",
              " ('Katito', 7840, 3067, 4773, 89, '(-0.26996690000000001, 34.969609400000003)', 47),\n",
              " ('Kendu Bay', 16030, 5213, 10817, 92, '(-0.34699610800000003, 34.649178089999999)', 49),\n",
              " ('Kericho', 127042, 40813, 86229, 102, '(-0.353571784, 35.28978755)', 50),\n",
              " ('Keroka', 49853, 6949, 42904, 90, '(-0.759323847, 34.95244804)', 51),\n",
              " ('Kimilili', 94719, 40928, 53791, 94, '(0.79948592500000004, 34.711513910000001)', 58),\n",
              " ('Kiminini', 11642, 5523, 6119, 85, '(0.90853975600000003, 34.92532886)', 59),\n",
              " ('Kinango', 7682, 4317, 3365, 93, '(-4.1045338190000002, 39.313578219999997)', 60),\n",
              " ('Kipkelion', 47902, 3582, 44320, 98, '(-0.17626963900000001, 35.466227510000003)', 61),\n",
              " ('Kitui', 115183, 19067, 96116, 94, '(-1.3667407, 38.009941499999996)', 67),\n",
              " ('Kwale', 21378, 6037, 15341, 91, '(-4.1487008769999996, 39.455571740000003)', 69),\n",
              " ('Londiani', 44843, 5405, 39438, 99, '(-0.14696747299999999, 35.6003002)', 76),\n",
              " ('Luanda', 49156, 7149, 42007, 92, '(0.045638918000000001, 34.583453140000003)', 77),\n",
              " ('Lumakanda', 10548, 2478, 8070, 99, '(0.63659500000000002, 35.0108751)', 78),\n",
              " ('Machakos', 150467, 40819, 109648, 97, '(-1.506809311, 37.258834540000002)', 79),\n",
              " ('Makuyu', 47452, 6955, 40497, 99, '(-0.88942170300000001, 37.186287710000002)', 86),\n",
              " ('Maragwa', 25081, 4263, 20818, 95, '(-0.790646933, 37.129400400000002)', 90),\n",
              " ('Marimanti', 8535, 1638, 6897, 97, '(-0.1558254, 37.957881399999998)', 95),\n",
              " ('Masimba', 34973, 1146, 33827, 90, '(-0.86112840000000002, 34.930944199999999)', 99),\n",
              " ('Matuu', 51025, 10569, 40456, 96, '(-1.1431591999999999, 37.530126899999999)', 101),\n",
              " ('Muhoroni', 34379, 14756, 19623, 108, '(-0.12975930099999999, 35.189717829999999)', 116),\n",
              " ('Mukurwe-Ini', 5402, 2168, 3234, 95, '(-0.55321465400000003, 37.041835319999997)', 118),\n",
              " ('Mumias', 102208, 38623, 63585, 95, '(0.33317140000000001, 34.477972800000003)', 119),\n",
              " ('Nyamira', 56857, 12657, 44200, 92, '(-0.56332979999999999, 34.893209900000002)', 137),\n",
              " ('Ol Kalou', 67186, 7010, 60176, 96, '(-0.26985817099999998, 36.370259300000001)', 140),\n",
              " ('Oyugis', 36528, 8917, 27611, 89, '(-0.49686285099999999, 34.730712910000001)', 143),\n",
              " ('Rongo', 81968, 12282, 69686, 92, '(-0.74350079099999999, 34.604594759999998)', 146),\n",
              " ('Runyenjes', 19434, 1956, 17478, 95, '(-0.40199000499999998, 37.558866020000004)', 148),\n",
              " ('Shamata', 9221, 2921, 6300, 96, '(-0.1164949, 36.479957200000001)', 150),\n",
              " ('Suneka', 50961, 5688, 45273, 92, '(-0.67782799999999999, 34.700317200000001)', 158),\n",
              " ('Uriri', 6202, 0, 6202, 90, '(0.031698400000000002, 34.451698)', 167),\n",
              " ('Vihiga', 124391, 36380, 88011, 92, '(0.30366979, 34.94499751)', 169),\n",
              " ('Wajir', 82106, 16188, 65918, 111, '(1.7462282250000001, 40.057254749999998)', 171),\n",
              " ('Wamba', 6059, 2579, 3480, 99, '(0.98577954499999998, 37.32137101)', 172),\n",
              " ('Webuye', 49767, 23364, 26403, 97, '(0.61901399499999998, 34.765001550000001)', 175),\n",
              " ('Wote', 67542, 9433, 58109, 99, '(-1.7848607000000001, 37.612123099999998)', 176)]"
            ]
          },
          "metadata": {
            "tags": []
          },
          "execution_count": 19
        }
      ]
    },
    {
      "cell_type": "code",
      "metadata": {
        "id": "LYeZwxqtX3ug",
        "colab": {
          "base_uri": "https://localhost:8080/",
          "height": 725
        },
        "outputId": "cdc197a5-abe2-4d44-9454-dcbdaf52af42"
      },
      "source": [
        "# Example 3\n",
        "# Which donors funded projects amounting to more than 50& of the project cost?\n",
        "# \n",
        "%%sql\n",
        "SELECT Funding_Source  FROM Government_Budget WHERE (Total_Project_Cost_KES / Total_Budget_Supported__by_Donors_KES) > 0.5;"
      ],
      "execution_count": 20,
      "outputs": [
        {
          "output_type": "stream",
          "text": [
            " * sqlite://\n",
            "Done.\n"
          ],
          "name": "stdout"
        },
        {
          "output_type": "execute_result",
          "data": {
            "text/html": [
              "<table>\n",
              "    <thead>\n",
              "        <tr>\n",
              "            <th>Funding_Source</th>\n",
              "        </tr>\n",
              "    </thead>\n",
              "    <tbody>\n",
              "        <tr>\n",
              "            <td> Government of Sweden</td>\n",
              "        </tr>\n",
              "        <tr>\n",
              "            <td> United Nations Development Programme (UNDP)</td>\n",
              "        </tr>\n",
              "        <tr>\n",
              "            <td> World Food Programme</td>\n",
              "        </tr>\n",
              "        <tr>\n",
              "            <td> African Development Bank/ Fund</td>\n",
              "        </tr>\n",
              "        <tr>\n",
              "            <td> European Investment Bank</td>\n",
              "        </tr>\n",
              "        <tr>\n",
              "            <td> Government of India</td>\n",
              "        </tr>\n",
              "        <tr>\n",
              "            <td> Government of Italy</td>\n",
              "        </tr>\n",
              "        <tr>\n",
              "            <td>Government of Kenya</td>\n",
              "        </tr>\n",
              "        <tr>\n",
              "            <td> Government of United States of America (USAID)</td>\n",
              "        </tr>\n",
              "        <tr>\n",
              "            <td> Government of Spain</td>\n",
              "        </tr>\n",
              "        <tr>\n",
              "            <td> Kuwait Fund for Arab Development</td>\n",
              "        </tr>\n",
              "        <tr>\n",
              "            <td> Arab Bank for Economic Development in Africa (BADEA)</td>\n",
              "        </tr>\n",
              "        <tr>\n",
              "            <td> Government of South Korea</td>\n",
              "        </tr>\n",
              "        <tr>\n",
              "            <td> Government of Denmark</td>\n",
              "        </tr>\n",
              "        <tr>\n",
              "            <td> Abhu Dhabi Fund</td>\n",
              "        </tr>\n",
              "        <tr>\n",
              "            <td> Government of China</td>\n",
              "        </tr>\n",
              "        <tr>\n",
              "            <td> Investment Climate Facility (ICF)</td>\n",
              "        </tr>\n",
              "        <tr>\n",
              "            <td> Government of Finland</td>\n",
              "        </tr>\n",
              "        <tr>\n",
              "            <td> International Development Association (IDA)</td>\n",
              "        </tr>\n",
              "        <tr>\n",
              "            <td> Saudi Fund for Development</td>\n",
              "        </tr>\n",
              "        <tr>\n",
              "            <td> European Development Fund</td>\n",
              "        </tr>\n",
              "        <tr>\n",
              "            <td> Global Fund</td>\n",
              "        </tr>\n",
              "        <tr>\n",
              "            <td> Government of Germany (GIZ GERMANY)</td>\n",
              "        </tr>\n",
              "        <tr>\n",
              "            <td> United Kingdom DFID (UK)</td>\n",
              "        </tr>\n",
              "        <tr>\n",
              "            <td> Government of Germany (KFW GERMANY)</td>\n",
              "        </tr>\n",
              "        <tr>\n",
              "            <td> Government of France</td>\n",
              "        </tr>\n",
              "        <tr>\n",
              "            <td> Government of Japan</td>\n",
              "        </tr>\n",
              "        <tr>\n",
              "            <td> United Nations Environmental Programme (UNEP)</td>\n",
              "        </tr>\n",
              "        <tr>\n",
              "            <td> International Fund for Agricultural Development (IFAD)</td>\n",
              "        </tr>\n",
              "        <tr>\n",
              "            <td> Organization of Petroleum Exporting Countries (OPEC)</td>\n",
              "        </tr>\n",
              "        <tr>\n",
              "            <td> Food and Agricultural Organization</td>\n",
              "        </tr>\n",
              "    </tbody>\n",
              "</table>"
            ],
            "text/plain": [
              "[(' Government of Sweden',),\n",
              " (' United Nations Development Programme (UNDP)',),\n",
              " (' World Food Programme',),\n",
              " (' African Development Bank/ Fund',),\n",
              " (' European Investment Bank',),\n",
              " (' Government of India',),\n",
              " (' Government of Italy',),\n",
              " ('Government of Kenya',),\n",
              " (' Government of United States of America (USAID)',),\n",
              " (' Government of Spain',),\n",
              " (' Kuwait Fund for Arab Development',),\n",
              " (' Arab Bank for Economic Development in Africa (BADEA)',),\n",
              " (' Government of South Korea',),\n",
              " (' Government of Denmark',),\n",
              " (' Abhu Dhabi Fund',),\n",
              " (' Government of China',),\n",
              " (' Investment Climate Facility (ICF)',),\n",
              " (' Government of Finland',),\n",
              " (' International Development Association (IDA)',),\n",
              " (' Saudi Fund for Development',),\n",
              " (' European Development Fund',),\n",
              " (' Global Fund',),\n",
              " (' Government of Germany (GIZ GERMANY)',),\n",
              " (' United Kingdom DFID (UK)',),\n",
              " (' Government of Germany (KFW GERMANY)',),\n",
              " (' Government of France',),\n",
              " (' Government of Japan',),\n",
              " (' United Nations Environmental Programme (UNEP)',),\n",
              " (' International Fund for Agricultural Development (IFAD)',),\n",
              " (' Organization of Petroleum Exporting Countries (OPEC)',),\n",
              " (' Food and Agricultural Organization',)]"
            ]
          },
          "metadata": {
            "tags": []
          },
          "execution_count": 20
        }
      ]
    },
    {
      "cell_type": "markdown",
      "metadata": {
        "id": "Ydq-Lp9vX710"
      },
      "source": [
        "### <font color=\"green\">1.3 Challenges</font>"
      ]
    },
    {
      "cell_type": "code",
      "metadata": {
        "id": "-lwboGD2YN4n",
        "colab": {
          "base_uri": "https://localhost:8080/",
          "height": 95
        },
        "outputId": "79211897-3f7b-47cd-f005-d1f3a285e17e"
      },
      "source": [
        "# Challenge 1\n",
        "# What was the total grants offered by the 'African Development Bank/ Fund' \n",
        "# and the 'United Nations Development Programme (UNDP)'\n",
        "# contribute towards projects underken by the Kenyan government?\n",
        "# \n",
        "\n",
        "\n",
        "\n",
        "%%sql\n",
        "SELECT SUM(\"Total_-_Grant_Budget_Est_KES\") FROM Government_Budget\n",
        "Where (\"Funding_Source\") = \" United Nations Development Programme (UNDP)\" or (\" African Development Bank/ Fund\")\n",
        ";"
      ],
      "execution_count": 42,
      "outputs": [
        {
          "output_type": "stream",
          "text": [
            " * sqlite://\n",
            "Done.\n"
          ],
          "name": "stdout"
        },
        {
          "output_type": "execute_result",
          "data": {
            "text/html": [
              "<table>\n",
              "    <thead>\n",
              "        <tr>\n",
              "            <th>SUM(&quot;Total_-_Grant_Budget_Est_KES&quot;)</th>\n",
              "        </tr>\n",
              "    </thead>\n",
              "    <tbody>\n",
              "        <tr>\n",
              "            <td>1436627037</td>\n",
              "        </tr>\n",
              "    </tbody>\n",
              "</table>"
            ],
            "text/plain": [
              "[(1436627037,)]"
            ]
          },
          "metadata": {
            "tags": []
          },
          "execution_count": 42
        }
      ]
    },
    {
      "cell_type": "code",
      "metadata": {
        "id": "JhzG62Q9YPCn",
        "colab": {
          "base_uri": "https://localhost:8080/",
          "height": 74
        },
        "outputId": "b27cd589-2ac1-4e3a-80ab-97adcafc10e5"
      },
      "source": [
        "# Challenge 2\n",
        "# Data Cleaning\n",
        "# Find the records whose difference of Total urban population \n",
        "# and peri urban population does not result to the core urban population.\n",
        "#\n",
        "%%sql\n",
        "\n",
        "SELECT * FROM Urban_Centres \n",
        "WHERE (\"Total_population\") - (\"Peri_urban_population\") != (\"Core_urban_population\")\n",
        ";"
      ],
      "execution_count": 44,
      "outputs": [
        {
          "output_type": "stream",
          "text": [
            " * sqlite://\n",
            "Done.\n"
          ],
          "name": "stdout"
        },
        {
          "output_type": "execute_result",
          "data": {
            "text/html": [
              "<table>\n",
              "    <thead>\n",
              "        <tr>\n",
              "            <th>Urban_centre</th>\n",
              "            <th>Total_population</th>\n",
              "            <th>Core_urban_population</th>\n",
              "            <th>Peri_urban_population</th>\n",
              "            <th>Sex_ratio</th>\n",
              "            <th>co-ordinates</th>\n",
              "            <th>OBJECTID</th>\n",
              "        </tr>\n",
              "    </thead>\n",
              "    <tbody>\n",
              "    </tbody>\n",
              "</table>"
            ],
            "text/plain": [
              "[]"
            ]
          },
          "metadata": {
            "tags": []
          },
          "execution_count": 44
        }
      ]
    },
    {
      "cell_type": "code",
      "metadata": {
        "id": "hHIXv7NE5dij",
        "colab": {
          "base_uri": "https://localhost:8080/",
          "height": 263
        },
        "outputId": "18e0ea81-f445-47ea-f559-8ab295cca73b"
      },
      "source": [
        "# Challenge 3 \n",
        "# Which donors funded projects amounting to less than than 10% of the project cost?\n",
        "#\n",
        "%%sql\n",
        "Select \"Funding_Source\", \"Total_Budget_Supported__by_Donors_KES\", \"Total_Project_Cost_KES\" from Government_Budget\n",
        "Where  \"Total_Budget_Supported__by_Donors_KES\" < (0.10 * \"Total_Project_Cost_KES\")\n",
        ";"
      ],
      "execution_count": 46,
      "outputs": [
        {
          "output_type": "stream",
          "text": [
            " * sqlite://\n",
            "Done.\n"
          ],
          "name": "stdout"
        },
        {
          "output_type": "execute_result",
          "data": {
            "text/html": [
              "<table>\n",
              "    <thead>\n",
              "        <tr>\n",
              "            <th>Funding_Source</th>\n",
              "            <th>Total_Budget_Supported__by_Donors_KES</th>\n",
              "            <th>Total_Project_Cost_KES</th>\n",
              "        </tr>\n",
              "    </thead>\n",
              "    <tbody>\n",
              "        <tr>\n",
              "            <td> European Investment Bank</td>\n",
              "            <td>2685000000</td>\n",
              "            <td>174293000000</td>\n",
              "        </tr>\n",
              "        <tr>\n",
              "            <td>Government of Kenya</td>\n",
              "            <td>2124268960</td>\n",
              "            <td>57509065793</td>\n",
              "        </tr>\n",
              "        <tr>\n",
              "            <td> Government of Spain</td>\n",
              "            <td>1000000000</td>\n",
              "            <td>44109597288</td>\n",
              "        </tr>\n",
              "        <tr>\n",
              "            <td> Government of South Korea</td>\n",
              "            <td>530341760</td>\n",
              "            <td>13101797000</td>\n",
              "        </tr>\n",
              "        <tr>\n",
              "            <td> Investment Climate Facility (ICF)</td>\n",
              "            <td>285372540</td>\n",
              "            <td>26562500000</td>\n",
              "        </tr>\n",
              "        <tr>\n",
              "            <td> International Development Association (IDA)</td>\n",
              "            <td>75114669334</td>\n",
              "            <td>225747000000000</td>\n",
              "        </tr>\n",
              "        <tr>\n",
              "            <td> Government of Germany (GIZ GERMANY)</td>\n",
              "            <td>2690000000</td>\n",
              "            <td>31503571429</td>\n",
              "        </tr>\n",
              "        <tr>\n",
              "            <td> Government of Germany (KFW GERMANY)</td>\n",
              "            <td>12469209280</td>\n",
              "            <td>450088000000</td>\n",
              "        </tr>\n",
              "        <tr>\n",
              "            <td> Government of France</td>\n",
              "            <td>21016602560</td>\n",
              "            <td>231198000000</td>\n",
              "        </tr>\n",
              "    </tbody>\n",
              "</table>"
            ],
            "text/plain": [
              "[(' European Investment Bank', 2685000000, 174293000000),\n",
              " ('Government of Kenya', 2124268960, 57509065793),\n",
              " (' Government of Spain', 1000000000, 44109597288),\n",
              " (' Government of South Korea', 530341760, 13101797000),\n",
              " (' Investment Climate Facility (ICF)', 285372540, 26562500000),\n",
              " (' International Development Association (IDA)', 75114669334, 225747000000000),\n",
              " (' Government of Germany (GIZ GERMANY)', 2690000000, 31503571429),\n",
              " (' Government of Germany (KFW GERMANY)', 12469209280, 450088000000),\n",
              " (' Government of France', 21016602560, 231198000000)]"
            ]
          },
          "metadata": {
            "tags": []
          },
          "execution_count": 46
        }
      ]
    },
    {
      "cell_type": "markdown",
      "metadata": {
        "id": "5t8zd5x4Wy0c"
      },
      "source": [
        "## 1.4 Minimum and Maximum\n"
      ]
    },
    {
      "cell_type": "code",
      "metadata": {
        "id": "1VFu1XmdYSFT",
        "colab": {
          "base_uri": "https://localhost:8080/",
          "height": 95
        },
        "outputId": "0af69238-e495-40bf-c0aa-3ebbb73ead57"
      },
      "source": [
        "# Example 1\n",
        "# Which urban centres had the most core urban population?\n",
        "#\n",
        "%%sql \n",
        "SELECT Urban_Centre, MAX(Core_urban_population) FROM Urban_Centres;"
      ],
      "execution_count": 47,
      "outputs": [
        {
          "output_type": "stream",
          "text": [
            " * sqlite://\n",
            "Done.\n"
          ],
          "name": "stdout"
        },
        {
          "output_type": "execute_result",
          "data": {
            "text/html": [
              "<table>\n",
              "    <thead>\n",
              "        <tr>\n",
              "            <th>Urban_centre</th>\n",
              "            <th>MAX(Core_urban_population)</th>\n",
              "        </tr>\n",
              "    </thead>\n",
              "    <tbody>\n",
              "        <tr>\n",
              "            <td>Nairobi</td>\n",
              "            <td>3109861</td>\n",
              "        </tr>\n",
              "    </tbody>\n",
              "</table>"
            ],
            "text/plain": [
              "[('Nairobi', 3109861)]"
            ]
          },
          "metadata": {
            "tags": []
          },
          "execution_count": 47
        }
      ]
    },
    {
      "cell_type": "code",
      "metadata": {
        "id": "NKUNdacAYTYN",
        "colab": {
          "base_uri": "https://localhost:8080/",
          "height": 95
        },
        "outputId": "e17e1507-0b1b-4fd1-d4e1-7f65ca9a3ab4"
      },
      "source": [
        "# Example 2\n",
        "# Maximum Example\n",
        "# Which urban centre had the least total urban population?\n",
        "# \n",
        "%%sql \n",
        "SELECT Urban_Centre, MIN(Total_population) FROM Urban_Centres;"
      ],
      "execution_count": 48,
      "outputs": [
        {
          "output_type": "stream",
          "text": [
            " * sqlite://\n",
            "Done.\n"
          ],
          "name": "stdout"
        },
        {
          "output_type": "execute_result",
          "data": {
            "text/html": [
              "<table>\n",
              "    <thead>\n",
              "        <tr>\n",
              "            <th>Urban_centre</th>\n",
              "            <th>MIN(Total_population)</th>\n",
              "        </tr>\n",
              "    </thead>\n",
              "    <tbody>\n",
              "        <tr>\n",
              "            <td>Sololo</td>\n",
              "            <td>5035</td>\n",
              "        </tr>\n",
              "    </tbody>\n",
              "</table>"
            ],
            "text/plain": [
              "[('Sololo', 5035)]"
            ]
          },
          "metadata": {
            "tags": []
          },
          "execution_count": 48
        }
      ]
    },
    {
      "cell_type": "code",
      "metadata": {
        "id": "tx5-cA-BYUUw",
        "colab": {
          "base_uri": "https://localhost:8080/",
          "height": 95
        },
        "outputId": "318a2523-98f2-4b12-a4d6-2c258bb8a595"
      },
      "source": [
        "# Example 3\n",
        "# Which urban centre with a sex ratio > 90 had the least total urban population?\n",
        "# \n",
        "%%sql \n",
        "SELECT Urban_Centre, MIN(Total_population) FROM Urban_Centres WHERE Sex_ratio > 90;"
      ],
      "execution_count": 49,
      "outputs": [
        {
          "output_type": "stream",
          "text": [
            " * sqlite://\n",
            "Done.\n"
          ],
          "name": "stdout"
        },
        {
          "output_type": "execute_result",
          "data": {
            "text/html": [
              "<table>\n",
              "    <thead>\n",
              "        <tr>\n",
              "            <th>Urban_centre</th>\n",
              "            <th>MIN(Total_population)</th>\n",
              "        </tr>\n",
              "    </thead>\n",
              "    <tbody>\n",
              "        <tr>\n",
              "            <td>Sololo</td>\n",
              "            <td>5035</td>\n",
              "        </tr>\n",
              "    </tbody>\n",
              "</table>"
            ],
            "text/plain": [
              "[('Sololo', 5035)]"
            ]
          },
          "metadata": {
            "tags": []
          },
          "execution_count": 49
        }
      ]
    },
    {
      "cell_type": "markdown",
      "metadata": {
        "id": "Toyc2mT_YWK5"
      },
      "source": [
        "### <font color=\"green\">1.4 Challenges</font>"
      ]
    },
    {
      "cell_type": "code",
      "metadata": {
        "id": "m15e5g8bYZI6",
        "colab": {
          "base_uri": "https://localhost:8080/",
          "height": 95
        },
        "outputId": "d996564a-6d01-41eb-9c97-5047853f4ea0"
      },
      "source": [
        "# Challenge 1 \n",
        "# Which government projects had the most grant funding?\n",
        "# Hint: \"Total_-_Grant_Budget_Est_KES\" encolse column with double quotes\n",
        "#\n",
        "%%sql\n",
        "\n",
        "select OBJECTID, MAX(\"Total_-_Grant_Budget_Est_KES\")  FROM Government_Budget\n",
        "\n",
        ";"
      ],
      "execution_count": 53,
      "outputs": [
        {
          "output_type": "stream",
          "text": [
            " * sqlite://\n",
            "Done.\n"
          ],
          "name": "stdout"
        },
        {
          "output_type": "execute_result",
          "data": {
            "text/html": [
              "<table>\n",
              "    <thead>\n",
              "        <tr>\n",
              "            <th>OBJECTID</th>\n",
              "            <th>MAX(&quot;Total_-_Grant_Budget_Est_KES&quot;)</th>\n",
              "        </tr>\n",
              "    </thead>\n",
              "    <tbody>\n",
              "        <tr>\n",
              "            <td>27</td>\n",
              "            <td>33054201792</td>\n",
              "        </tr>\n",
              "    </tbody>\n",
              "</table>"
            ],
            "text/plain": [
              "[(27, 33054201792)]"
            ]
          },
          "metadata": {
            "tags": []
          },
          "execution_count": 53
        }
      ]
    },
    {
      "cell_type": "code",
      "metadata": {
        "id": "vERo_CIB7wGG",
        "colab": {
          "base_uri": "https://localhost:8080/",
          "height": 95
        },
        "outputId": "fd789e37-61da-45bc-c06b-bb1213deaa21"
      },
      "source": [
        "# Challenge 2\n",
        "# Which government projects had the least loan funding?\n",
        "# \n",
        "\n",
        "%%sql\n",
        "\n",
        "SELECT OBJECTID, MIN(\"Total_-_Loan_Budget_Est_KES\") FROM Government_Budget\n",
        "\n",
        ";"
      ],
      "execution_count": 57,
      "outputs": [
        {
          "output_type": "stream",
          "text": [
            " * sqlite://\n",
            "Done.\n"
          ],
          "name": "stdout"
        },
        {
          "output_type": "execute_result",
          "data": {
            "text/html": [
              "<table>\n",
              "    <thead>\n",
              "        <tr>\n",
              "            <th>OBJECTID</th>\n",
              "            <th>MIN(&quot;Total_-_Loan_Budget_Est_KES&quot;)</th>\n",
              "        </tr>\n",
              "    </thead>\n",
              "    <tbody>\n",
              "        <tr>\n",
              "            <td>2</td>\n",
              "            <td>0</td>\n",
              "        </tr>\n",
              "    </tbody>\n",
              "</table>"
            ],
            "text/plain": [
              "[(2, 0)]"
            ]
          },
          "metadata": {
            "tags": []
          },
          "execution_count": 57
        }
      ]
    },
    {
      "cell_type": "code",
      "metadata": {
        "id": "AcxfwqNLYY4r",
        "colab": {
          "base_uri": "https://localhost:8080/",
          "height": 95
        },
        "outputId": "e82a2100-3ea6-445c-f8ff-faf318d88e95"
      },
      "source": [
        "# Challenge \n",
        "# Which governments projects had the least loan funding and had \n",
        "# grant funding greater than donor funding?\n",
        "#\n",
        "\n",
        "%%sql\n",
        "\n",
        "SELECT \"OBJECTID\", MIN(\"Total_-_Loan_Budget_Est_KES\") \n",
        "WHERE (\"Total_-_Grant_Budget_Est_KES\") > (\"Total_Budget_Supported__by_Donors_KES\")\n",
        "\n",
        ";"
      ],
      "execution_count": 60,
      "outputs": [
        {
          "output_type": "stream",
          "text": [
            " * sqlite://\n",
            "Done.\n"
          ],
          "name": "stdout"
        },
        {
          "output_type": "execute_result",
          "data": {
            "text/html": [
              "<table>\n",
              "    <thead>\n",
              "        <tr>\n",
              "            <th>&quot;OBJECTID&quot;</th>\n",
              "            <th>MIN(&quot;Total_-_Loan_Budget_Est_KES&quot;)</th>\n",
              "        </tr>\n",
              "    </thead>\n",
              "    <tbody>\n",
              "        <tr>\n",
              "            <td>OBJECTID</td>\n",
              "            <td>None</td>\n",
              "        </tr>\n",
              "    </tbody>\n",
              "</table>"
            ],
            "text/plain": [
              "[('OBJECTID', None)]"
            ]
          },
          "metadata": {
            "tags": []
          },
          "execution_count": 60
        }
      ]
    },
    {
      "cell_type": "markdown",
      "metadata": {
        "id": "3vgAkdXmW3VP"
      },
      "source": [
        "## 1.5 The Aggregate SUM() function\n"
      ]
    },
    {
      "cell_type": "code",
      "metadata": {
        "id": "H1ZjnGR8XGGm",
        "colab": {
          "base_uri": "https://localhost:8080/",
          "height": 95
        },
        "outputId": "340636ad-d43e-4862-a634-dc46c3165e2a"
      },
      "source": [
        "# Example 1\n",
        "# What was the total loan Budget of all government projects?\n",
        "#\n",
        "%%sql \n",
        "SELECT SUM(\"Total_-_Loan_Budget_Est_KES\") FROM Government_Budget;"
      ],
      "execution_count": 61,
      "outputs": [
        {
          "output_type": "stream",
          "text": [
            " * sqlite://\n",
            "Done.\n"
          ],
          "name": "stdout"
        },
        {
          "output_type": "execute_result",
          "data": {
            "text/html": [
              "<table>\n",
              "    <thead>\n",
              "        <tr>\n",
              "            <th>SUM(&quot;Total_-_Loan_Budget_Est_KES&quot;)</th>\n",
              "        </tr>\n",
              "    </thead>\n",
              "    <tbody>\n",
              "        <tr>\n",
              "            <td>374828211075</td>\n",
              "        </tr>\n",
              "    </tbody>\n",
              "</table>"
            ],
            "text/plain": [
              "[(374828211075,)]"
            ]
          },
          "metadata": {
            "tags": []
          },
          "execution_count": 61
        }
      ]
    },
    {
      "cell_type": "code",
      "metadata": {
        "id": "I5BwLcN2YfO1",
        "colab": {
          "base_uri": "https://localhost:8080/",
          "height": 95
        },
        "outputId": "150c6ca0-e9d5-42cc-a676-e2ab17fbebb4"
      },
      "source": [
        "# Example 2\n",
        "# What was the total project cost for all government projects where the total \n",
        "# loan budget is greater than the total grant budget?\n",
        "#\n",
        "%%sql \n",
        "SELECT SUM(Total_Project_Cost_KES) FROM Government_Budget \n",
        "WHERE \"Total_-_Loan_Budget_Est_KES\" < \"Total_-_Grant_Budget_Est_KES\t\" ;"
      ],
      "execution_count": 62,
      "outputs": [
        {
          "output_type": "stream",
          "text": [
            " * sqlite://\n",
            "Done.\n"
          ],
          "name": "stdout"
        },
        {
          "output_type": "execute_result",
          "data": {
            "text/html": [
              "<table>\n",
              "    <thead>\n",
              "        <tr>\n",
              "            <th>SUM(Total_Project_Cost_KES)</th>\n",
              "        </tr>\n",
              "    </thead>\n",
              "    <tbody>\n",
              "        <tr>\n",
              "            <td>228201585899569</td>\n",
              "        </tr>\n",
              "    </tbody>\n",
              "</table>"
            ],
            "text/plain": [
              "[(228201585899569,)]"
            ]
          },
          "metadata": {
            "tags": []
          },
          "execution_count": 62
        }
      ]
    },
    {
      "cell_type": "code",
      "metadata": {
        "id": "06LLcXgsYgHo",
        "colab": {
          "base_uri": "https://localhost:8080/",
          "height": 95
        },
        "outputId": "20ed6c15-f0b4-4c80-c0e7-bd295d1a67a7"
      },
      "source": [
        "# Example 3\n",
        "# What was the total Core urban population in Kenya?\n",
        "#\n",
        "%%sql \n",
        "SELECT SUM(Core_urban_population) FROM Urban_Centres;"
      ],
      "execution_count": 63,
      "outputs": [
        {
          "output_type": "stream",
          "text": [
            " * sqlite://\n",
            "Done.\n"
          ],
          "name": "stdout"
        },
        {
          "output_type": "execute_result",
          "data": {
            "text/html": [
              "<table>\n",
              "    <thead>\n",
              "        <tr>\n",
              "            <th>SUM(Core_urban_population)</th>\n",
              "        </tr>\n",
              "    </thead>\n",
              "    <tbody>\n",
              "        <tr>\n",
              "            <td>8877819</td>\n",
              "        </tr>\n",
              "    </tbody>\n",
              "</table>"
            ],
            "text/plain": [
              "[(8877819,)]"
            ]
          },
          "metadata": {
            "tags": []
          },
          "execution_count": 63
        }
      ]
    },
    {
      "cell_type": "markdown",
      "metadata": {
        "id": "tpsZ1JXvYhgd"
      },
      "source": [
        "### <font color=\"green\">1.5 Challenges</font>"
      ]
    },
    {
      "cell_type": "code",
      "metadata": {
        "id": "qwtLrr8cYnbe",
        "colab": {
          "base_uri": "https://localhost:8080/",
          "height": 95
        },
        "outputId": "a120764e-74b3-4b0e-aeb0-8b6840d35042"
      },
      "source": [
        "# Challenge 1\n",
        "# What was the total urban centre population?\n",
        "# \n",
        "%%sql \n",
        "SELECT SUM(Total_population) FROM Urban_Centres;"
      ],
      "execution_count": 64,
      "outputs": [
        {
          "output_type": "stream",
          "text": [
            " * sqlite://\n",
            "Done.\n"
          ],
          "name": "stdout"
        },
        {
          "output_type": "execute_result",
          "data": {
            "text/html": [
              "<table>\n",
              "    <thead>\n",
              "        <tr>\n",
              "            <th>SUM(Total_population)</th>\n",
              "        </tr>\n",
              "    </thead>\n",
              "    <tbody>\n",
              "        <tr>\n",
              "            <td>11789364</td>\n",
              "        </tr>\n",
              "    </tbody>\n",
              "</table>"
            ],
            "text/plain": [
              "[(11789364,)]"
            ]
          },
          "metadata": {
            "tags": []
          },
          "execution_count": 64
        }
      ]
    },
    {
      "cell_type": "code",
      "metadata": {
        "id": "R4w-o97JYo7m",
        "colab": {
          "base_uri": "https://localhost:8080/",
          "height": 95
        },
        "outputId": "a9af1947-7d21-4637-8910-97b8941d0a46"
      },
      "source": [
        "# Challenge 2\n",
        "# What was the sum of the urban centre populations with\n",
        "# core urban population less than peri urban population?\n",
        "# \n",
        "%%sql\n",
        "\n",
        "SELECT SUM(Total_population) FROM Urban_Centres\n",
        "WHERE Core_urban_population < Peri_urban_population\n",
        "\n",
        ";"
      ],
      "execution_count": 65,
      "outputs": [
        {
          "output_type": "stream",
          "text": [
            " * sqlite://\n",
            "Done.\n"
          ],
          "name": "stdout"
        },
        {
          "output_type": "execute_result",
          "data": {
            "text/html": [
              "<table>\n",
              "    <thead>\n",
              "        <tr>\n",
              "            <th>SUM(Total_population)</th>\n",
              "        </tr>\n",
              "    </thead>\n",
              "    <tbody>\n",
              "        <tr>\n",
              "            <td>2506812</td>\n",
              "        </tr>\n",
              "    </tbody>\n",
              "</table>"
            ],
            "text/plain": [
              "[(2506812,)]"
            ]
          },
          "metadata": {
            "tags": []
          },
          "execution_count": 65
        }
      ]
    },
    {
      "cell_type": "code",
      "metadata": {
        "id": "hXyLQmF4vl-p",
        "colab": {
          "base_uri": "https://localhost:8080/",
          "height": 91
        },
        "outputId": "e4c142f2-54ff-408e-f965-ed2877d9eb71"
      },
      "source": [
        "\n",
        "%%sql \n",
        "SELECT *\n",
        "FROM Households\n",
        "WHERE county IS NULL;"
      ],
      "execution_count": 66,
      "outputs": [
        {
          "output_type": "stream",
          "text": [
            " * sqlite://\n",
            "Done.\n"
          ],
          "name": "stdout"
        },
        {
          "output_type": "execute_result",
          "data": {
            "text/html": [
              "<table>\n",
              "    <thead>\n",
              "        <tr>\n",
              "            <th>County</th>\n",
              "            <th>Gender</th>\n",
              "            <th>Age_Group_of_Household_head_15-24_%_</th>\n",
              "            <th>Age_Group_of_Household_head_25-34_%</th>\n",
              "            <th>Age_Group_of_Household_head_35-59_%</th>\n",
              "            <th>Age_Group_of_Household_head_60+_%</th>\n",
              "            <th>Number_of_households</th>\n",
              "            <th>County_Centroid</th>\n",
              "            <th>OBJECTID</th>\n",
              "        </tr>\n",
              "    </thead>\n",
              "    <tbody>\n",
              "    </tbody>\n",
              "</table>"
            ],
            "text/plain": [
              "[]"
            ]
          },
          "metadata": {
            "tags": []
          },
          "execution_count": 66
        }
      ]
    },
    {
      "cell_type": "code",
      "metadata": {
        "id": "uRpFweEUYqDx",
        "colab": {
          "base_uri": "https://localhost:8080/",
          "height": 95
        },
        "outputId": "0f4c6af3-b81c-4a9a-8244-4da685a87070"
      },
      "source": [
        "# Challenge 3\n",
        "# What was the sum of male and female households in Mombasa and Nairobi?\n",
        "# \n",
        "%%sql \n",
        "SELECT SUM(Number_of_households) \n",
        "FROM Households\n",
        "WHERE \"county\"='Nairobi' or 'Mombasa';"
      ],
      "execution_count": 78,
      "outputs": [
        {
          "output_type": "stream",
          "text": [
            " * sqlite://\n",
            "Done.\n"
          ],
          "name": "stdout"
        },
        {
          "output_type": "execute_result",
          "data": {
            "text/html": [
              "<table>\n",
              "    <thead>\n",
              "        <tr>\n",
              "            <th>SUM(Number_of_households)</th>\n",
              "        </tr>\n",
              "    </thead>\n",
              "    <tbody>\n",
              "        <tr>\n",
              "            <td>985016</td>\n",
              "        </tr>\n",
              "    </tbody>\n",
              "</table>"
            ],
            "text/plain": [
              "[(985016,)]"
            ]
          },
          "metadata": {
            "tags": []
          },
          "execution_count": 78
        }
      ]
    },
    {
      "cell_type": "code",
      "metadata": {
        "id": "N88vnEo-9BFU"
      },
      "source": [
        ""
      ],
      "execution_count": null,
      "outputs": []
    }
  ]
}