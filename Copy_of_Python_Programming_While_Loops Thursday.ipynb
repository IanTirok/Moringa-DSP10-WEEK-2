{
  "nbformat": 4,
  "nbformat_minor": 0,
  "metadata": {
    "colab": {
      "name": "Copy of Python Programming: While Loops ",
      "provenance": [],
      "collapsed_sections": [],
      "include_colab_link": true
    },
    "kernelspec": {
      "name": "python3",
      "display_name": "Python 3"
    }
  },
  "cells": [
    {
      "cell_type": "markdown",
      "metadata": {
        "id": "view-in-github",
        "colab_type": "text"
      },
      "source": [
        "<a href=\"https://colab.research.google.com/github/IanTirok/Moringa-DSP10-WEEK-2/blob/main/Copy_of_Python_Programming_While_Loops%20Thursday.ipynb\" target=\"_parent\"><img src=\"https://colab.research.google.com/assets/colab-badge.svg\" alt=\"Open In Colab\"/></a>"
      ]
    },
    {
      "cell_type": "markdown",
      "metadata": {
        "id": "BSv_43aDRGBd"
      },
      "source": [
        "<font color=\"green\">*To start working on this notebook, or any other notebook that we will use in the Moringa Data Science Course, we will need to save our own copy of it. We can do this by clicking File > Save a Copy in Drive. We will then be able to make edits to our own copy of this notebook.*</font>"
      ]
    },
    {
      "cell_type": "markdown",
      "metadata": {
        "id": "0hkJ3D_I8PHe"
      },
      "source": [
        "# Python Programming: While Loops "
      ]
    },
    {
      "cell_type": "markdown",
      "metadata": {
        "id": "i2g_QFDd8RuT"
      },
      "source": [
        "## 1.0 Iterating over a While Loop"
      ]
    },
    {
      "cell_type": "code",
      "metadata": {
        "id": "84FCIuE4FfUg",
        "colab": {
          "base_uri": "https://localhost:8080/"
        },
        "outputId": "b25db675-e918-4c6d-9d75-426a6217a566"
      },
      "source": [
        "# Example 1\n",
        "# Below is an example of a program that iterates through the use of a while loop \n",
        "# We will start counting from 1, and then stop at 19 \n",
        "# (each time increasing the value of the count by 1)\n",
        "#\n",
        "\n",
        "# Defining where our loop will start counting from\n",
        "increment_count = 1\n",
        "\n",
        "# Performing our iteration by first defining when to perform the iteration \n",
        "# in this case when the increment count is less than 20 and greater than 0\n",
        "# \n",
        "while 20 > increment_count > 0:\n",
        "  \n",
        "    print ('Increment = ', increment_count)\n",
        "    \n",
        "    # incrementing our increment_count by 1\n",
        "    increment_count = increment_count + 1"
      ],
      "execution_count": null,
      "outputs": [
        {
          "output_type": "stream",
          "text": [
            "Increment =  1\n",
            "Increment =  2\n",
            "Increment =  3\n",
            "Increment =  4\n",
            "Increment =  5\n",
            "Increment =  6\n",
            "Increment =  7\n",
            "Increment =  8\n",
            "Increment =  9\n",
            "Increment =  10\n",
            "Increment =  11\n",
            "Increment =  12\n",
            "Increment =  13\n",
            "Increment =  14\n",
            "Increment =  15\n",
            "Increment =  16\n",
            "Increment =  17\n",
            "Increment =  18\n",
            "Increment =  19\n"
          ],
          "name": "stdout"
        }
      ]
    },
    {
      "cell_type": "code",
      "metadata": {
        "id": "PV7t7NG4IWgl",
        "colab": {
          "base_uri": "https://localhost:8080/"
        },
        "outputId": "3025149b-d995-4ac4-c8da-24c7e82d772d"
      },
      "source": [
        "# Example 2\n",
        "# Iterating over a list using a while loop\n",
        "#\n",
        "\n",
        "# First defining our list\n",
        "facilitators = ['James', 'Rosa', 'Nyambura', 'Emma', 'Leila', 'Simon', 'Lucy', 'Sabina', 'Isaac']\n",
        "\n",
        "# Our while loop will start counting from 0,\n",
        "i = 0\n",
        "\n",
        "# determining the no. of elements in our facilitators list\n",
        "no_of_facilitators = len(facilitators) \n",
        "\n",
        "# Performing our iteration, starting from 0 until i is not less than the no_of_facilitators\n",
        "while i < no_of_facilitators:\n",
        "  \n",
        "  # print out the element in the list as per the index\n",
        "  print(facilitators[i])\n",
        "  \n",
        "  # incrementing our i by 1\n",
        "  i += 1"
      ],
      "execution_count": null,
      "outputs": [
        {
          "output_type": "stream",
          "text": [
            "James\n",
            "Rosa\n",
            "Nyambura\n",
            "Emma\n",
            "Leila\n",
            "Simon\n",
            "Lucy\n",
            "Sabina\n",
            "Isaac\n"
          ],
          "name": "stdout"
        }
      ]
    },
    {
      "cell_type": "code",
      "metadata": {
        "id": "wZxd3taRIXFU",
        "colab": {
          "base_uri": "https://localhost:8080/"
        },
        "outputId": "b3ed76fe-fcea-4ab5-83c2-ba3014273293"
      },
      "source": [
        "# Example 3\n",
        "# In this example we will work with nested while loops \n",
        "#\n",
        "\n",
        "# Creating an integer\n",
        "n = 1\n",
        "\n",
        "# Iterating whilst the value of n is less than or equal to 2\n",
        "while n <= 2:\n",
        "\n",
        "    # Creating an integer\n",
        "    m = 1\n",
        "\n",
        "    # Iterating whilst the value of m is less than or equal to 2\n",
        "    while m <= 3:\n",
        "        print('outer loop iteration {}, nested loop iteration {}'.format(n, m))\n",
        "\n",
        "        # Adding 1 to value m\n",
        "        m += 1\n",
        "\n",
        "    # Adding 1 to value n\n",
        "    n += 1"
      ],
      "execution_count": null,
      "outputs": [
        {
          "output_type": "stream",
          "text": [
            "outer loop iteration 1, nested loop iteration 1\n",
            "outer loop iteration 1, nested loop iteration 2\n",
            "outer loop iteration 1, nested loop iteration 3\n",
            "outer loop iteration 2, nested loop iteration 1\n",
            "outer loop iteration 2, nested loop iteration 2\n",
            "outer loop iteration 2, nested loop iteration 3\n"
          ],
          "name": "stdout"
        }
      ]
    },
    {
      "cell_type": "markdown",
      "metadata": {
        "id": "Rq3yNgQ8PDsY"
      },
      "source": [
        "### <font color=\"green\"> 1.0 Challenges </font>"
      ]
    },
    {
      "cell_type": "code",
      "metadata": {
        "id": "YIqwK5ZEPbKv",
        "colab": {
          "base_uri": "https://localhost:8080/"
        },
        "outputId": "ef66ee4c-9767-4a13-e736-d2957810db94"
      },
      "source": [
        "# Challenge 1\n",
        "# Print out the numbers between 1 and 10 inclusive using a while loop\n",
        "#\n",
        "# Defining where our loop will start counting from\n",
        "increment_counts = 1\n",
        "\n",
        "# Performing our iteration by first defining when to perform the iteration \n",
        "# in this case when the increment count is less than 20 and greater than 0\n",
        "# \n",
        "while 11 > increment_counts > 0:\n",
        "  \n",
        "    print (increment_counts)\n",
        "    \n",
        "    # incrementing our increment_count by 1\n",
        "    increment_counts = increment_counts + 1"
      ],
      "execution_count": null,
      "outputs": [
        {
          "output_type": "stream",
          "text": [
            "1\n",
            "2\n",
            "3\n",
            "4\n",
            "5\n",
            "6\n",
            "7\n",
            "8\n",
            "9\n",
            "10\n"
          ],
          "name": "stdout"
        }
      ]
    },
    {
      "cell_type": "code",
      "metadata": {
        "id": "zlUiz3BsPbA2",
        "colab": {
          "base_uri": "https://localhost:8080/"
        },
        "outputId": "8a331ed9-09b9-41a7-a1ca-4d2ece60c438"
      },
      "source": [
        "# Challenge 2\n",
        "# Iterate through given years in the defined list below and stop at the year 2004, \n",
        "# then print out the number of iterations. \n",
        "# \n",
        "\n",
        "dates_list = [2001, 2002, 2003, 2004, 2005, 2006, 2007, 2008, 2009, 2010]\n",
        "\n",
        "zo = 1\n",
        "\n",
        "b42004 = dates_list[0]\n",
        "\n",
        "while b42004 <= 2004:\n",
        "  print(b42004)\n",
        "  b42004 = dates_list[zo]\n",
        "  zo = zo + 1"
      ],
      "execution_count": null,
      "outputs": [
        {
          "output_type": "stream",
          "text": [
            "2001\n",
            "2002\n",
            "2003\n",
            "2004\n"
          ],
          "name": "stdout"
        }
      ]
    },
    {
      "cell_type": "code",
      "metadata": {
        "id": "qbT7YJz2Pa5K",
        "colab": {
          "base_uri": "https://localhost:8080/"
        },
        "outputId": "3386a38e-ef1e-4099-88f4-f17a08d84945"
      },
      "source": [
        "# Challenge 3\n",
        "# Using a nested loop, print “X is negative” as long as x is less than 0?\n",
        "# \n",
        "\n",
        "x = 15\n",
        "n = -15\n",
        "while x > 0:\n",
        "    print(x, \"is a positive figure\")\n",
        "    x -= 1\n",
        "    while x <= 0:\n",
        "      print(x, \"is a negative figure\")\n",
        "      x -= 1\n",
        "      if x == n:\n",
        "        break\n",
        "    \n",
        "    "
      ],
      "execution_count": null,
      "outputs": [
        {
          "output_type": "stream",
          "text": [
            "15 is a positive figure\n",
            "14 is a positive figure\n",
            "13 is a positive figure\n",
            "12 is a positive figure\n",
            "11 is a positive figure\n",
            "10 is a positive figure\n",
            "9 is a positive figure\n",
            "8 is a positive figure\n",
            "7 is a positive figure\n",
            "6 is a positive figure\n",
            "5 is a positive figure\n",
            "4 is a positive figure\n",
            "3 is a positive figure\n",
            "2 is a positive figure\n",
            "1 is a positive figure\n",
            "0 is a negative figure\n",
            "-1 is a negative figure\n",
            "-2 is a negative figure\n",
            "-3 is a negative figure\n",
            "-4 is a negative figure\n",
            "-5 is a negative figure\n",
            "-6 is a negative figure\n",
            "-7 is a negative figure\n",
            "-8 is a negative figure\n",
            "-9 is a negative figure\n",
            "-10 is a negative figure\n",
            "-11 is a negative figure\n",
            "-12 is a negative figure\n",
            "-13 is a negative figure\n",
            "-14 is a negative figure\n"
          ],
          "name": "stdout"
        }
      ]
    },
    {
      "cell_type": "markdown",
      "metadata": {
        "id": "o2l2ojIRIXs9"
      },
      "source": [
        "## 1.2 The Break Statement"
      ]
    },
    {
      "cell_type": "code",
      "metadata": {
        "id": "G9Y85nvWMIpK",
        "colab": {
          "base_uri": "https://localhost:8080/"
        },
        "outputId": "9131493c-771d-47df-dc16-8c92ba771112"
      },
      "source": [
        "# Example 1\n",
        "# The break statement allows you to exit a loop from any point within its body. \n",
        "# We can use a break statement while as shown\n",
        "#  \n",
        "\n",
        "n = 1\n",
        "\n",
        "while True:\n",
        "  \n",
        "    print (n)\n",
        "    \n",
        "    n+=1\n",
        "    \n",
        "    if n==4:\n",
        "      \n",
        "        break\n",
        "    \n",
        "print(\"After Break\")"
      ],
      "execution_count": null,
      "outputs": [
        {
          "output_type": "stream",
          "text": [
            "1\n",
            "2\n",
            "3\n",
            "After Break\n"
          ],
          "name": "stdout"
        }
      ]
    },
    {
      "cell_type": "code",
      "metadata": {
        "id": "2l8qKnW1MJUH",
        "colab": {
          "base_uri": "https://localhost:8080/"
        },
        "outputId": "b299a55b-748b-46da-ca6f-42cc49ac8dc0"
      },
      "source": [
        "# Example 2\n",
        "# Using a break statement while iterating over our facilitators\n",
        "#\n",
        "\n",
        "# First defining our list\n",
        "facilitators = ['James', 'Rosa', 'Nyambura', 'Emma', 'Leila', 'Simon', 'Lucy', 'Sabina', 'Isaac']\n",
        "\n",
        "# Our while loop will start counting from 0,\n",
        "i = 0\n",
        "\n",
        "# determining the no. of elements in our facilitators list\n",
        "no_of_facilitators = len(facilitators) \n",
        "\n",
        "# defining our word variable\n",
        "word = \"Emma\"\n",
        "\n",
        "\n",
        "# Performing our iteration, starting from 0 until i is not less than the no_of_facilitators\n",
        "while i < no_of_facilitators:\n",
        "  \n",
        "  # print out the element in the list as per the index\n",
        "  if word == facilitators[i]:\n",
        "    \n",
        "      print(\"Find the element at position:\",i)\n",
        "    \n",
        "      break\n",
        "  \n",
        "  # incrementing our i by 1\n",
        "  i += 1"
      ],
      "execution_count": null,
      "outputs": [
        {
          "output_type": "stream",
          "text": [
            "Find the element at position: 3\n"
          ],
          "name": "stdout"
        }
      ]
    },
    {
      "cell_type": "code",
      "metadata": {
        "id": "yKHgYoplhF9D",
        "colab": {
          "base_uri": "https://localhost:8080/"
        },
        "outputId": "9517d2ba-f6a7-415a-bb26-b1c8a09943c4"
      },
      "source": [
        "# Example 3\n",
        "# Imax theatre charges different ticket prices depending on a persons age.  \n",
        "# If a person is under the age of 3, the ticket is free; \n",
        "# If they are between 3 and 12, the ticket is Ksh.500; \n",
        "# and if they are over age 12, the ticket is Ksh.800.  \n",
        "# Write a loop in which you ask their age, and then tell them the cost of the ticket.\n",
        "#\n",
        "\n",
        "prompt = \"\\nPlease enter your age so we can tell you the price of the ticket:\"\n",
        "prompt += \"\\n(Enter 'done' when you are finished.) \"\n",
        "\n",
        "while True:\n",
        "    age = input(prompt)\n",
        "    if age == 'done':\n",
        "        break\n",
        "    age = int(age)\n",
        "\n",
        "    if age < 3:\n",
        "        print(\"Since you are \" + str(age) + \" the cost of the movie ticket is Free!\")\n",
        "    elif age > 3 and age <= 12:\n",
        "        print(\"Since you are \" + str(age) + \" the cost of the movie ticket is Ksh.500.\")\n",
        "    else:\n",
        "        print(\"Since you are \" + str(age) + \" the cost of the movie ticket is Ksh.800\")"
      ],
      "execution_count": null,
      "outputs": [
        {
          "output_type": "stream",
          "text": [
            "\n",
            "Please enter your age so we can tell you the price of the ticket:\n",
            "(Enter 'done' when you are finished.) 12\n",
            "Since you are 12 the cost of the movie ticket is Ksh.500.\n",
            "\n",
            "Please enter your age so we can tell you the price of the ticket:\n",
            "(Enter 'done' when you are finished.) done\n"
          ],
          "name": "stdout"
        }
      ]
    },
    {
      "cell_type": "markdown",
      "metadata": {
        "id": "aoHtqtjuabCr"
      },
      "source": [
        "### <font color=\"green\">1.2 Challenges</font>"
      ]
    },
    {
      "cell_type": "code",
      "metadata": {
        "id": "Dd1_N4MRad_Q",
        "colab": {
          "base_uri": "https://localhost:8080/"
        },
        "outputId": "771c7d78-3dd1-45be-82b9-b1759c944681"
      },
      "source": [
        "# Challenge 1\n",
        "# Write a while loop to display the values of the Rating of an album playlist \n",
        "# stored in the list “PlayListRatings”. If the score is less than 6, exit the loop. \n",
        "# The list “PlayListRatings” is given by: PlayListRatings = [10, 9.5, 10, 8, 7.5, 5, 10, 10]:\n",
        "# \n",
        "\n",
        "\n",
        "PlayListRatings = [10, 9.5, 10, 8, 7.5, 5, 10, 10]\n",
        "\n",
        "ko = 1\n",
        "\n",
        "greatr6 = PlayListRatings[0]\n",
        "\n",
        "while greatr6 >= 6:\n",
        "  print(greatr6)\n",
        "  greatr6 = PlayListRatings[ko]\n",
        "  ko = ko + 1"
      ],
      "execution_count": null,
      "outputs": [
        {
          "output_type": "stream",
          "text": [
            "10\n",
            "9.5\n",
            "10\n",
            "8\n",
            "7.5\n"
          ],
          "name": "stdout"
        }
      ]
    },
    {
      "cell_type": "code",
      "metadata": {
        "id": "DqQMoboYaelF",
        "colab": {
          "base_uri": "https://localhost:8080/"
        },
        "outputId": "83cd51da-06d0-4b49-d593-c764804de92a"
      },
      "source": [
        "x# Challenge 2\n",
        "# Iterate through the following names list and stop if the name is Andrew\n",
        "# \n",
        "\n",
        "names = ['Jane', 'Jeremy', 'Pauline', 'George', 'Andrew', 'Michael']\n",
        "\n",
        "\n",
        "na = 1\n",
        "an = names[0]\n",
        "\n",
        "no_of_names = len(names) \n",
        "\n",
        "# defining our word variable\n",
        "word = \"Andrew\"\n",
        "\n",
        "\n",
        "# Performing our iteration, starting from 0 until i is not less than the no_of_facilitators\n",
        "while names[0] != word:\n",
        "  print(names[na])\n",
        "  na += 1\n",
        "  if word == names[na]:\n",
        "    break\n",
        "     \n"
      ],
      "execution_count": 212,
      "outputs": [
        {
          "output_type": "stream",
          "text": [
            "Jeremy\n",
            "Pauline\n",
            "George\n"
          ],
          "name": "stdout"
        }
      ]
    },
    {
      "cell_type": "code",
      "metadata": {
        "id": "USWaUrYuaePF",
        "colab": {
          "base_uri": "https://localhost:8080/"
        },
        "outputId": "f89928d8-8f3c-4d28-c25c-8d82481b2226"
      },
      "source": [
        "# Challenge 3\n",
        "# Write a program that finds the sum of any two numbers entered by a user, \n",
        "# If one of the numbers is a negative number then the program should stop, \n",
        "# else it could compute and display the sum;\n",
        "# \n",
        "ab = int (input(\"what are the numbers you would like to add?    \"))\n",
        "cd = int (input(\"what is the second number youn want to add?    \"))\n",
        "ef = int (ab + cd)\n",
        "\n",
        "while ef > 0:\n",
        "  print (\"the sum of the 2 numbers is   \", ef)\n",
        "else:\n",
        "  print (\"we don't do negative enrgy here\")"
      ],
      "execution_count": null,
      "outputs": [
        {
          "output_type": "stream",
          "text": [
            "what are the numbers you would like to add?    -45\n",
            "what is the second number youn want to add?    20\n",
            "we don't do negative enrgy here\n"
          ],
          "name": "stdout"
        }
      ]
    },
    {
      "cell_type": "markdown",
      "metadata": {
        "id": "bJSuEO5NKzC6"
      },
      "source": [
        "**bold text**## 1.3 The Continue Statement"
      ]
    },
    {
      "cell_type": "code",
      "metadata": {
        "id": "IZR7OhHqhsZg",
        "colab": {
          "base_uri": "https://localhost:8080/"
        },
        "outputId": "bd821d6d-d180-4ceb-ab45-c05054d8361e"
      },
      "source": [
        "# Example 1\n",
        "# The continue statement works like break but instead of forcing termination, \n",
        "# it forces the next iteration of the loop to take place \n",
        "# and skipping the rest of the code.\n",
        "# Below is our first example of using a continue statement while iterating over a list\n",
        "# \n",
        "\n",
        "# First defining our list\n",
        "facilitators = ['James', 'Rosa', 'Nyambura', 'Emma', 'Leila', 'Simon', 'Lucy', 'Sabina', 'Isaac']\n",
        "\n",
        "# Our while loop will start counting from 0,\n",
        "i = 0\n",
        "\n",
        "# determining the no. of elements in our facilitators list\n",
        "no_of_facilitators = len(facilitators) \n",
        "\n",
        "# defining our word variable\n",
        "word = \"Emma\"\n",
        "\n",
        "\n",
        "# Performing our iteration, starting from 0 until i is not less than the no_of_facilitators\n",
        "while i < no_of_facilitators:\n",
        "  \n",
        "    print(\"Checking element:\", i)\n",
        "    \n",
        "    if word != facilitators[i]:\n",
        "        \n",
        "        i = i + 1\n",
        "        \n",
        "        continue\n",
        " \n",
        "    print(\"Find the element at \", i)\n",
        "    \n",
        "    # stop the loop\n",
        "    i = no_of_facilitators  "
      ],
      "execution_count": null,
      "outputs": [
        {
          "output_type": "stream",
          "text": [
            "Checking element: 0\n",
            "Checking element: 1\n",
            "Checking element: 2\n",
            "Checking element: 3\n",
            "Find the element at  3\n"
          ],
          "name": "stdout"
        }
      ]
    },
    {
      "cell_type": "code",
      "metadata": {
        "id": "u-iOIUarhsK-",
        "colab": {
          "base_uri": "https://localhost:8080/"
        },
        "outputId": "281c5e4f-3dac-467e-d2fe-14a909cc34a4"
      },
      "source": [
        "# Example 2\n",
        "# Asking the user for input and printing the input if is isn't #. \n",
        "# if the input is #, we continue else if the input is 'done' we end the loop\n",
        "#\n",
        "\n",
        "print(\"Type 'done' when you want to leave the loop.\")\n",
        "\n",
        "while True:\n",
        "    name = input('Please enter your name: ')\n",
        "    if name == '#':\n",
        "      \n",
        "        continue \n",
        "        \n",
        "    if name == 'done':\n",
        "      \n",
        "        break\n",
        "        \n",
        "    print(name)\n",
        "    \n",
        "\n",
        "print('Done!')\n"
      ],
      "execution_count": null,
      "outputs": [
        {
          "output_type": "stream",
          "text": [
            "Type 'done' when you want to leave the loop.\n",
            "Please enter your name: ian\n",
            "ian\n",
            "Please enter your name: #\n",
            "Please enter your name: done\n",
            "Done!\n"
          ],
          "name": "stdout"
        }
      ]
    },
    {
      "cell_type": "markdown",
      "metadata": {
        "id": "c13xlVleK8Dd"
      },
      "source": [
        "### <font color=\"green\">1.3 Challenges</font>\n"
      ]
    },
    {
      "cell_type": "code",
      "metadata": {
        "id": "yyauW4_yurxI",
        "colab": {
          "base_uri": "https://localhost:8080/",
          "height": 371
        },
        "outputId": "83602ce2-4a4f-4f81-d10d-13d2398c2e92"
      },
      "source": [
        "# Challenge 1\n",
        "# Let's while loop that prints out the following color list. \n",
        "# If should skip the color green during iteration.\n",
        "#\n",
        "\n",
        "color = ['red', 'yellow', 'green', 'white', 'purple', 'blue']\n",
        "# Our while loop will start counting from 0,\n",
        "\n",
        "plus = 0\n",
        "slup = color[0]\n",
        "\n",
        "# determining the no. of elements in our facilitators list\n",
        "no_of_color = len(color) \n",
        "\n",
        "# defining our word variable\n",
        "word = \"green\"\n",
        "\n",
        "# Performing our iteration, starting from 0 until i is not less than the no_of_facilitators\n",
        "while  slup != word :\n",
        "  print(color[plus])\n",
        "  plus = plus + 1  \n",
        "if color[plus] == word:\n",
        "  continue\n",
        "  \n",
        "  \n",
        "  while plus == no_of_color: \n",
        "    break\n",
        "    \n",
        "    # stop the loop\n",
        " "
      ],
      "execution_count": null,
      "outputs": [
        {
          "output_type": "stream",
          "text": [
            "red\n",
            "yellow\n",
            "green\n",
            "white\n",
            "purple\n",
            "blue\n"
          ],
          "name": "stdout"
        },
        {
          "output_type": "error",
          "ename": "IndexError",
          "evalue": "ignored",
          "traceback": [
            "\u001b[0;31m---------------------------------------------------------------------------\u001b[0m",
            "\u001b[0;31mIndexError\u001b[0m                                Traceback (most recent call last)",
            "\u001b[0;32m<ipython-input-164-32f03fd27403>\u001b[0m in \u001b[0;36m<module>\u001b[0;34m()\u001b[0m\n\u001b[1;32m     18\u001b[0m \u001b[0;31m# Performing our iteration, starting from 0 until i is not less than the no_of_facilitators\u001b[0m\u001b[0;34m\u001b[0m\u001b[0;34m\u001b[0m\u001b[0;34m\u001b[0m\u001b[0m\n\u001b[1;32m     19\u001b[0m \u001b[0;32mwhile\u001b[0m  \u001b[0mslup\u001b[0m \u001b[0;34m!=\u001b[0m \u001b[0mword\u001b[0m \u001b[0;34m:\u001b[0m\u001b[0;34m\u001b[0m\u001b[0;34m\u001b[0m\u001b[0m\n\u001b[0;32m---> 20\u001b[0;31m   \u001b[0mprint\u001b[0m\u001b[0;34m(\u001b[0m\u001b[0mcolor\u001b[0m\u001b[0;34m[\u001b[0m\u001b[0mplus\u001b[0m\u001b[0;34m]\u001b[0m\u001b[0;34m)\u001b[0m\u001b[0;34m\u001b[0m\u001b[0;34m\u001b[0m\u001b[0m\n\u001b[0m\u001b[1;32m     21\u001b[0m   \u001b[0mplus\u001b[0m \u001b[0;34m=\u001b[0m \u001b[0mplus\u001b[0m \u001b[0;34m+\u001b[0m \u001b[0;36m1\u001b[0m\u001b[0;34m\u001b[0m\u001b[0;34m\u001b[0m\u001b[0m\n\u001b[1;32m     22\u001b[0m \u001b[0;32mif\u001b[0m \u001b[0mcolor\u001b[0m\u001b[0;34m[\u001b[0m\u001b[0mplus\u001b[0m\u001b[0;34m]\u001b[0m \u001b[0;34m==\u001b[0m \u001b[0mword\u001b[0m\u001b[0;34m:\u001b[0m\u001b[0;34m\u001b[0m\u001b[0;34m\u001b[0m\u001b[0m\n",
            "\u001b[0;31mIndexError\u001b[0m: list index out of range"
          ]
        }
      ]
    },
    {
      "cell_type": "markdown",
      "metadata": {
        "id": "m-WluVZoLBie"
      },
      "source": [
        "## 1.4 The Else Statement"
      ]
    },
    {
      "cell_type": "code",
      "metadata": {
        "id": "7-CCMfxfOj4L",
        "colab": {
          "base_uri": "https://localhost:8080/"
        },
        "outputId": "2b2a6dbe-d1a1-49e6-c5e0-2b44b6b56ba1"
      },
      "source": [
        "# Example 1\n",
        "# Showing how the else statement works with the while loop\n",
        "# \n",
        "\n",
        "# Defining our start count\n",
        "counting = 0\n",
        "\n",
        "# \n",
        "while counting < 3:\n",
        "  \n",
        "    print(\"Iterating inside while loop\")\n",
        "    \n",
        "    counting = counting + 1\n",
        "    \n",
        "# The else statement will run if the while condition becomes false\n",
        "else:\n",
        "    print(\"Running the else block...\")\n"
      ],
      "execution_count": null,
      "outputs": [
        {
          "output_type": "stream",
          "text": [
            "Iterating inside while loop\n",
            "Iterating inside while loop\n",
            "Iterating inside while loop\n",
            "Running the else block...\n"
          ],
          "name": "stdout"
        }
      ]
    },
    {
      "cell_type": "code",
      "metadata": {
        "id": "-ku-JJLqvMql",
        "colab": {
          "base_uri": "https://localhost:8080/"
        },
        "outputId": "7d3e7341-8924-4a5c-93ce-7e2c03796c80"
      },
      "source": [
        "# Example 2\n",
        "# Another example of using an else and a break statement in a while loop\n",
        "#\n",
        "\n",
        "myNum = 6\n",
        "\n",
        "myVar = 1\n",
        "\n",
        "while myVar <= 10 :\n",
        "  \n",
        "    if myVar == myNum :\n",
        "      \n",
        "            print(\"Breaking out of the loop\")\n",
        "        \n",
        "            break\n",
        "        \n",
        "    print(\"This number = \" + str(myVar))\n",
        "        \n",
        "    myVar += 1\n",
        "    \n",
        "else:\n",
        "  \n",
        "    print(\"Break statement is executed, printing 'else' block\")"
      ],
      "execution_count": null,
      "outputs": [
        {
          "output_type": "stream",
          "text": [
            "This number = 1\n",
            "This number = 2\n",
            "This number = 3\n",
            "This number = 4\n",
            "This number = 5\n",
            "Breaking out of the loop\n"
          ],
          "name": "stdout"
        }
      ]
    },
    {
      "cell_type": "code",
      "metadata": {
        "id": "OZU30VcZvNEz",
        "colab": {
          "base_uri": "https://localhost:8080/"
        },
        "outputId": "9d05189b-41d3-41d2-bd80-555dac9d73c3"
      },
      "source": [
        "# Example 3\n",
        "# Say we want write the first ten numbers shown below. \n",
        "# But for the final number (i.e. 10), we want to write “The final count is: “.\n",
        "# \n",
        "\n",
        "count = 0\n",
        "\n",
        "while count < 10:\n",
        "  \n",
        "    print(\"The current count is: \", count)\n",
        "      \n",
        "    count += 1\n",
        "    \n",
        "else:\n",
        "  \n",
        "    print(\"The final count is: \", count)"
      ],
      "execution_count": null,
      "outputs": [
        {
          "output_type": "stream",
          "text": [
            "The current count is:  0\n",
            "The current count is:  1\n",
            "The current count is:  2\n",
            "The current count is:  3\n",
            "The current count is:  4\n",
            "The current count is:  5\n",
            "The current count is:  6\n",
            "The current count is:  7\n",
            "The current count is:  8\n",
            "The current count is:  9\n",
            "The final count is:  10\n"
          ],
          "name": "stdout"
        }
      ]
    },
    {
      "cell_type": "markdown",
      "metadata": {
        "id": "pt06jAbBLK7j"
      },
      "source": [
        "### <font color=\"green\">1.4 Challenges</font>"
      ]
    },
    {
      "cell_type": "code",
      "metadata": {
        "id": "VXM0D76BvgnX",
        "colab": {
          "base_uri": "https://localhost:8080/"
        },
        "outputId": "8555f309-3af0-4ef1-e1cb-fcf364cd3aa4"
      },
      "source": [
        "# Example 1\n",
        "# Write a program that takes in tempearature from a user, \n",
        "# checks whether the temperature is > 40 degrees Celcius, \n",
        "# then prints out whether the templerature is too hot or cold.\n",
        "# \n",
        "gh = int (input(\"what is the temperature today?    \"))\n",
        "\n",
        "if gh < 40: \n",
        "  print (\"The weather is cold\")\n",
        "else:\n",
        "  print (\"the weather is hot\")"
      ],
      "execution_count": null,
      "outputs": [
        {
          "output_type": "stream",
          "text": [
            "what is the temperature today?    78\n",
            "the weather is hot\n"
          ],
          "name": "stdout"
        }
      ]
    },
    {
      "cell_type": "code",
      "metadata": {
        "id": "lg-2KZfOOsxR",
        "colab": {
          "base_uri": "https://localhost:8080/",
          "height": 153
        },
        "outputId": "4403e4c1-5a74-4619-e01a-b2d980e2ef06"
      },
      "source": [
        "# Example 2\n",
        "# Let's a program that takes a number between 0 - 100 as input. \n",
        "# If we enter a valid number 3 times, then the while loop runs successfully, \n",
        "# and the message from the else clause would get displayed i.e. \"While loop ended!\".\n",
        "# If we enter an invalid number, then the loop would get aborted \n",
        "# without execting the code in the else.\n",
        "# \n",
        "hi = int (input(\"input the first of 3 numbers between 1 and 100:    \"))\n",
        "\n",
        "\n",
        "\n",
        "\n",
        "while hi < 100 and hi >1:\n",
        "  ij = int (input(\"input the second of 3 numbers between 1 and 100:    \"))\n",
        "  while ij < 100 and ij >1:\n",
        "    jk = int (input(\"input the last of 3 numbers between 1 and 100:    \"))\n",
        "    while jk < 100 and jk >1:\n",
        "      print (\"Python assignment complete\")\n",
        "    else:\n",
        "      print (\"you have entered an invalid answer\")\n",
        "      break\n",
        "  else:\n",
        "    print (\"you have entered an invalid answer\")\n",
        "    break\n",
        "else:\n",
        "\n",
        "  print (\"you have entered an invalid answer\")\n",
        " "
      ],
      "execution_count": null,
      "outputs": [
        {
          "output_type": "stream",
          "text": [
            "input the first of 3 numbers between 1 and 100:    70\n"
          ],
          "name": "stdout"
        },
        {
          "output_type": "error",
          "ename": "SyntaxError",
          "evalue": "ignored",
          "traceback": [
            "\u001b[0;36m  File \u001b[0;32m\"<ipython-input-211-530f528c6f07>\"\u001b[0;36m, line \u001b[0;32m26\u001b[0m\n\u001b[0;31m    continue\u001b[0m\n\u001b[0m    ^\u001b[0m\n\u001b[0;31mSyntaxError\u001b[0m\u001b[0;31m:\u001b[0m 'continue' not properly in loop\n"
          ]
        }
      ]
    },
    {
      "cell_type": "code",
      "metadata": {
        "id": "2LmJLpzWlxce"
      },
      "source": [
        ""
      ],
      "execution_count": null,
      "outputs": []
    }
  ]
}